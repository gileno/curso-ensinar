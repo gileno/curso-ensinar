{
 "cells": [
  {
   "cell_type": "code",
   "execution_count": 1,
   "metadata": {},
   "outputs": [],
   "source": [
    "import requests\n",
    "import pandas as pd"
   ]
  },
  {
   "cell_type": "code",
   "execution_count": 2,
   "metadata": {},
   "outputs": [],
   "source": [
    "url = 'https://blogdoenem.com.br/resultado-enem-recife'\n",
    "resposta = requests.get(url)"
   ]
  },
  {
   "cell_type": "code",
   "execution_count": 3,
   "metadata": {},
   "outputs": [
    {
     "name": "stdout",
     "output_type": "stream",
     "text": [
      "<!DOCTYPE html>\n",
      "<html lang=\"pt-BR\" xmlns:og=\"http://ogp.me/ns#\" xmlns:fb=\"http://ogp.me/ns/fb#\">\n",
      "<he\n"
     ]
    }
   ],
   "source": [
    "html = resposta.text\n",
    "print(html[:100])"
   ]
  },
  {
   "cell_type": "code",
   "execution_count": 4,
   "metadata": {},
   "outputs": [
    {
     "name": "stdout",
     "output_type": "stream",
     "text": [
      "Requirement already satisfied: lxml in /home/gileno/workspace/cursos/curso-ensinar/venv/lib/python3.6/site-packages (4.4.2)\r\n"
     ]
    }
   ],
   "source": [
    "!pip install lxml"
   ]
  },
  {
   "cell_type": "code",
   "execution_count": 5,
   "metadata": {},
   "outputs": [],
   "source": [
    "from lxml.html import fromstring, HTMLParser\n",
    "from lxml import etree"
   ]
  },
  {
   "cell_type": "code",
   "execution_count": 6,
   "metadata": {},
   "outputs": [],
   "source": [
    "arvore = fromstring(resposta.content.decode('utf-8'))"
   ]
  },
  {
   "cell_type": "code",
   "execution_count": 7,
   "metadata": {},
   "outputs": [
    {
     "data": {
      "text/plain": [
       "lxml.html.HtmlElement"
      ]
     },
     "execution_count": 7,
     "metadata": {},
     "output_type": "execute_result"
    }
   ],
   "source": [
    "type(arvore)"
   ]
  },
  {
   "cell_type": "code",
   "execution_count": 8,
   "metadata": {},
   "outputs": [],
   "source": [
    "tabela = arvore.xpath('//table[1]')[0]"
   ]
  },
  {
   "cell_type": "code",
   "execution_count": 9,
   "metadata": {},
   "outputs": [
    {
     "data": {
      "text/plain": [
       "<Element table at 0x7f2f163e2638>"
      ]
     },
     "execution_count": 9,
     "metadata": {},
     "output_type": "execute_result"
    }
   ],
   "source": [
    "tabela"
   ]
  },
  {
   "cell_type": "code",
   "execution_count": 10,
   "metadata": {},
   "outputs": [],
   "source": [
    "linhas = tabela.xpath(\".//tr\")"
   ]
  },
  {
   "cell_type": "code",
   "execution_count": 11,
   "metadata": {},
   "outputs": [
    {
     "data": {
      "text/plain": [
       "102"
      ]
     },
     "execution_count": 11,
     "metadata": {},
     "output_type": "execute_result"
    }
   ],
   "source": [
    "len(linhas)"
   ]
  },
  {
   "cell_type": "code",
   "execution_count": 12,
   "metadata": {},
   "outputs": [],
   "source": [
    "df = pd.DataFrame(columns=['ordem', 'nome', 'objetivas', 'redação'])\n",
    "for linha in linhas[2:]:\n",
    "    ordem = linha.xpath(\"./td[1]/strong/text()\")[0]\n",
    "    nome = linha.xpath(\"./td[2]/text()\")[0]\n",
    "    objetivas = linha.xpath(\"./td[3]/text()\")[0]\n",
    "    redacao = linha.xpath(\"./td[4]/text()\")[0]\n",
    "    df = df.append({\n",
    "        'ordem': ordem, 'nome': nome,\n",
    "        'objetivas': objetivas, 'redação': redacao\n",
    "    }, ignore_index=True)"
   ]
  },
  {
   "cell_type": "code",
   "execution_count": 13,
   "metadata": {},
   "outputs": [
    {
     "data": {
      "text/html": [
       "<div>\n",
       "<style scoped>\n",
       "    .dataframe tbody tr th:only-of-type {\n",
       "        vertical-align: middle;\n",
       "    }\n",
       "\n",
       "    .dataframe tbody tr th {\n",
       "        vertical-align: top;\n",
       "    }\n",
       "\n",
       "    .dataframe thead th {\n",
       "        text-align: right;\n",
       "    }\n",
       "</style>\n",
       "<table border=\"1\" class=\"dataframe\">\n",
       "  <thead>\n",
       "    <tr style=\"text-align: right;\">\n",
       "      <th></th>\n",
       "      <th>ordem</th>\n",
       "      <th>nome</th>\n",
       "      <th>objetivas</th>\n",
       "      <th>redação</th>\n",
       "    </tr>\n",
       "  </thead>\n",
       "  <tbody>\n",
       "    <tr>\n",
       "      <th>0</th>\n",
       "      <td>1</td>\n",
       "      <td>APLICACAO DA UFPE</td>\n",
       "      <td>697,92</td>\n",
       "      <td>840,78</td>\n",
       "    </tr>\n",
       "    <tr>\n",
       "      <th>1</th>\n",
       "      <td>2</td>\n",
       "      <td>COGNITIVO</td>\n",
       "      <td>687,35</td>\n",
       "      <td>821,09</td>\n",
       "    </tr>\n",
       "    <tr>\n",
       "      <th>2</th>\n",
       "      <td>3</td>\n",
       "      <td>DE APLICACAO DA UPE</td>\n",
       "      <td>674,58</td>\n",
       "      <td>765,56</td>\n",
       "    </tr>\n",
       "    <tr>\n",
       "      <th>3</th>\n",
       "      <td>4</td>\n",
       "      <td>EQUIPE</td>\n",
       "      <td>671,03</td>\n",
       "      <td>854,38</td>\n",
       "    </tr>\n",
       "    <tr>\n",
       "      <th>4</th>\n",
       "      <td>5</td>\n",
       "      <td>EXIMIUS</td>\n",
       "      <td>661,42</td>\n",
       "      <td>787,50</td>\n",
       "    </tr>\n",
       "  </tbody>\n",
       "</table>\n",
       "</div>"
      ],
      "text/plain": [
       "  ordem                  nome objetivas redação\n",
       "0     1     APLICACAO DA UFPE    697,92  840,78\n",
       "1     2             COGNITIVO    687,35  821,09\n",
       "2     3   DE APLICACAO DA UPE    674,58  765,56\n",
       "3     4                EQUIPE    671,03  854,38\n",
       "4     5               EXIMIUS    661,42  787,50"
      ]
     },
     "execution_count": 13,
     "metadata": {},
     "output_type": "execute_result"
    }
   ],
   "source": [
    "df.head()"
   ]
  },
  {
   "cell_type": "code",
   "execution_count": 14,
   "metadata": {},
   "outputs": [],
   "source": [
    "df.to_excel('escolas.xls')"
   ]
  },
  {
   "cell_type": "code",
   "execution_count": 15,
   "metadata": {},
   "outputs": [
    {
     "name": "stdout",
     "output_type": "stream",
     "text": [
      "Requirement already satisfied: google in /home/gileno/workspace/cursos/curso-ensinar/venv/lib/python3.6/site-packages (2.0.3)\r\n",
      "Requirement already satisfied: beautifulsoup4 in /home/gileno/workspace/cursos/curso-ensinar/venv/lib/python3.6/site-packages (from google) (4.8.2)\r\n",
      "Requirement already satisfied: soupsieve>=1.2 in /home/gileno/workspace/cursos/curso-ensinar/venv/lib/python3.6/site-packages (from beautifulsoup4->google) (1.9.5)\r\n"
     ]
    }
   ],
   "source": [
    "!pip install google"
   ]
  },
  {
   "cell_type": "code",
   "execution_count": 16,
   "metadata": {},
   "outputs": [],
   "source": [
    "from googlesearch import search"
   ]
  },
  {
   "cell_type": "code",
   "execution_count": 19,
   "metadata": {},
   "outputs": [
    {
     "name": "stdout",
     "output_type": "stream",
     "text": [
      "https://www.colegiocognitivo.com.br/?sa=X&ved=2ahUKEwjDl7LbiYPnAhUoDbkGHcTzBaUQFjAAegQIABAB\n",
      "https://robertajungmann.com.br/2019/08/02/colegio-cognitivo-abre-nova-unidade-na-zona-sul/?sa=X&ved=2ahUKEwjDl7LbiYPnAhUoDbkGHcTzBaUQFjABegQICRAB\n",
      "https://www.melhorescola.com.br/escola/colegio-cognitivo?sa=X&ved=2ahUKEwjDl7LbiYPnAhUoDbkGHcTzBaUQFjACegQICBAB\n",
      "https://pt-br.facebook.com/ColegioCognitivo?sa=X&ved=2ahUKEwjDl7LbiYPnAhUoDbkGHcTzBaUQFjADegQIBxAB\n",
      "https://pt-br.facebook.com/ColegioCognitivo?rf=217638151618767&sa=X&ved=2ahUKEwjDl7LbiYPnAhUoDbkGHcTzBaUQFjAEegQIBhAB\n",
      "http://qedu.org.br/escola/95135-colegio-cognitivo/sobre?sa=X&ved=2ahUKEwjDl7LbiYPnAhUoDbkGHcTzBaUQFjAFegQIBRAB\n",
      "https://querobolsa.com.br/escolas/colegio-cognitivo?sa=X&ved=2ahUKEwjDl7LbiYPnAhUoDbkGHcTzBaUQFjAGegQIAxAB\n",
      "https://www.educamaisbrasil.com.br/educacao-basica/colegio-cognitivo?sa=X&ved=2ahUKEwjDl7LbiYPnAhUoDbkGHcTzBaUQFjAHegQIAhAB\n",
      "https://jconline.ne10.uol.com.br/canal/economia/pernambuco/noticia/2019/10/15/escolas-grandes-seguem-crescendo-no-mercado-da-educacao-do-recife-390569.php?sa=X&ved=2ahUKEwjDl7LbiYPnAhUoDbkGHcTzBaUQFjAIegQIARAB\n",
      "https://www.escol.as/317765-colegio-cognitivo?sa=X&ved=2ahUKEwjDl7LbiYPnAhUoDbkGHcTzBaUQFjAJegQIBBAB\n",
      "https://www.schoolandcollegelistings.com/BR/Recife/236483363080296/Col%C3%A9gio-Cognitivo?sa=X&ved=2ahUKEwjz9NvciYPnAhUkA9QKHboKCgU4ChAWMAB6BAgAEAE\n",
      "https://www.instagram.com/colegiocognitivo/?hl=pt&sa=X&ved=2ahUKEwjz9NvciYPnAhUkA9QKHboKCgU4ChAWMAF6BAgIEAE\n",
      "http://especiais.folhape.com.br/FolhaEducaLide/noticias/cognitivo-em-primeiro-lugar--veja-ranking-e-vr-deo?sa=X&ved=2ahUKEwjz9NvciYPnAhUkA9QKHboKCgU4ChAWMAJ6BAgJEAE\n",
      "https://blogdoenem.com.br/resultado-enem-recife/?sa=X&ved=2ahUKEwjz9NvciYPnAhUkA9QKHboKCgU4ChAWMAN6BAgHEAE\n",
      "https://www.guiafacil.com/site/colegio-cognitivo/recife/pe/8132690047/?sa=X&ved=2ahUKEwjz9NvciYPnAhUkA9QKHboKCgU4ChAWMAR6BAgDEAE\n",
      "http://g1.globo.com/pernambuco/educacao/noticia/2016/10/veja-100-escolas-de-pernambuco-com-maiores-medias-no-enem-2015.html?sa=X&ved=2ahUKEwjz9NvciYPnAhUkA9QKHboKCgU4ChAWMAV6BAgBEAE\n",
      "https://guia-pernambuco.escolasecreches.com.br/ensino-medio/COLEGIO-COGNITIVO-recife-recife-pernambuco-i26534711.htm?sa=X&ved=2ahUKEwjz9NvciYPnAhUkA9QKHboKCgU4ChAWMAZ6BAgEEAE\n",
      "https://www.guiamais.com.br/recife-pe/escolas-e-colegios/colegios/16358577-1/colegio-cognitivo?sa=X&ved=2ahUKEwjz9NvciYPnAhUkA9QKHboKCgU4ChAWMAd6BAgGEAE\n",
      "https://colegiosemrecife.com.br/pe/telefone-colegio-cognitivo-casa-forte-recife-mensalidade-matricula-ensino-fundamenta-ensino-medio-295?sa=X&ved=2ahUKEwjz9NvciYPnAhUkA9QKHboKCgU4ChAWMAh6BAgFEAE\n",
      "https://br.linkedin.com/in/ana-paula-souto-maior-aa20a8142?sa=X&ved=2ahUKEwjz9NvciYPnAhUkA9QKHboKCgU4ChAWMAl6BAgCEAE\n"
     ]
    },
    {
     "ename": "KeyboardInterrupt",
     "evalue": "",
     "output_type": "error",
     "traceback": [
      "\u001b[0;31m---------------------------------------------------------------------------\u001b[0m",
      "\u001b[0;31mKeyboardInterrupt\u001b[0m                         Traceback (most recent call last)",
      "\u001b[0;32m<ipython-input-19-2084f25fc82d>\u001b[0m in \u001b[0;36m<module>\u001b[0;34m\u001b[0m\n\u001b[0;32m----> 1\u001b[0;31m \u001b[0;32mfor\u001b[0m \u001b[0mresultado\u001b[0m \u001b[0;32min\u001b[0m \u001b[0msearch\u001b[0m\u001b[0;34m(\u001b[0m\u001b[0;34m\"colégio COGNITIVO recife\"\u001b[0m\u001b[0;34m)\u001b[0m\u001b[0;34m:\u001b[0m\u001b[0;34m\u001b[0m\u001b[0;34m\u001b[0m\u001b[0m\n\u001b[0m\u001b[1;32m      2\u001b[0m     \u001b[0mprint\u001b[0m\u001b[0;34m(\u001b[0m\u001b[0mresultado\u001b[0m\u001b[0;34m)\u001b[0m\u001b[0;34m\u001b[0m\u001b[0;34m\u001b[0m\u001b[0m\n",
      "\u001b[0;32m~/workspace/cursos/curso-ensinar/venv/lib/python3.6/site-packages/googlesearch/__init__.py\u001b[0m in \u001b[0;36msearch\u001b[0;34m(query, tld, lang, tbs, safe, num, start, stop, domains, pause, tpe, country, extra_params, user_agent)\u001b[0m\n\u001b[1;32m    307\u001b[0m         \u001b[0;31m# Sleep between requests.\u001b[0m\u001b[0;34m\u001b[0m\u001b[0;34m\u001b[0m\u001b[0;34m\u001b[0m\u001b[0m\n\u001b[1;32m    308\u001b[0m         \u001b[0;31m# Keeps Google from banning you for making too many requests.\u001b[0m\u001b[0;34m\u001b[0m\u001b[0;34m\u001b[0m\u001b[0;34m\u001b[0m\u001b[0m\n\u001b[0;32m--> 309\u001b[0;31m         \u001b[0mtime\u001b[0m\u001b[0;34m.\u001b[0m\u001b[0msleep\u001b[0m\u001b[0;34m(\u001b[0m\u001b[0mpause\u001b[0m\u001b[0;34m)\u001b[0m\u001b[0;34m\u001b[0m\u001b[0;34m\u001b[0m\u001b[0m\n\u001b[0m\u001b[1;32m    310\u001b[0m \u001b[0;34m\u001b[0m\u001b[0m\n\u001b[1;32m    311\u001b[0m         \u001b[0;31m# Request the Google Search results page.\u001b[0m\u001b[0;34m\u001b[0m\u001b[0;34m\u001b[0m\u001b[0;34m\u001b[0m\u001b[0m\n",
      "\u001b[0;31mKeyboardInterrupt\u001b[0m: "
     ]
    }
   ],
   "source": [
    "for resultado in search(\"colégio COGNITIVO recife\"):\n",
    "    print(resultado)"
   ]
  },
  {
   "cell_type": "code",
   "execution_count": 21,
   "metadata": {},
   "outputs": [],
   "source": [
    "link_colegio = 'https://www.colegiocognitivo.com.br/'"
   ]
  },
  {
   "cell_type": "code",
   "execution_count": 22,
   "metadata": {},
   "outputs": [],
   "source": [
    "resposta = requests.get(link_colegio)"
   ]
  },
  {
   "cell_type": "code",
   "execution_count": 23,
   "metadata": {},
   "outputs": [],
   "source": [
    "html = resposta.text"
   ]
  },
  {
   "cell_type": "code",
   "execution_count": 24,
   "metadata": {},
   "outputs": [
    {
     "data": {
      "text/plain": [
       "\"<!DOCTYPE html><html\\nlang=pt-br><head>\\n <script>(function(w,d,s,l,i){w[l]=w[l]||[];w[l].push({'gtm.s\""
      ]
     },
     "execution_count": 24,
     "metadata": {},
     "output_type": "execute_result"
    }
   ],
   "source": [
    "html[:100]"
   ]
  },
  {
   "cell_type": "code",
   "execution_count": 25,
   "metadata": {},
   "outputs": [],
   "source": [
    "import re"
   ]
  },
  {
   "cell_type": "code",
   "execution_count": 40,
   "metadata": {},
   "outputs": [],
   "source": [
    "telefones = re.findall(r'\\(81\\) \\d{4,5}[\\.-]{1}\\d{4}', html)"
   ]
  },
  {
   "cell_type": "code",
   "execution_count": 41,
   "metadata": {},
   "outputs": [
    {
     "data": {
      "text/plain": [
       "['(81) 3267-2717', '(81) 3269.0047']"
      ]
     },
     "execution_count": 41,
     "metadata": {},
     "output_type": "execute_result"
    }
   ],
   "source": [
    "telefones"
   ]
  },
  {
   "cell_type": "code",
   "execution_count": null,
   "metadata": {},
   "outputs": [],
   "source": []
  }
 ],
 "metadata": {
  "kernelspec": {
   "display_name": "Python 3",
   "language": "python",
   "name": "python3"
  },
  "language_info": {
   "codemirror_mode": {
    "name": "ipython",
    "version": 3
   },
   "file_extension": ".py",
   "mimetype": "text/x-python",
   "name": "python",
   "nbconvert_exporter": "python",
   "pygments_lexer": "ipython3",
   "version": "3.6.8"
  }
 },
 "nbformat": 4,
 "nbformat_minor": 4
}
