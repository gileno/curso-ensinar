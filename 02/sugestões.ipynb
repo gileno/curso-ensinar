{
 "cells": [
  {
   "cell_type": "code",
   "execution_count": 1,
   "metadata": {},
   "outputs": [],
   "source": [
    "import requests"
   ]
  },
  {
   "cell_type": "code",
   "execution_count": 3,
   "metadata": {},
   "outputs": [],
   "source": [
    "url = \"http://suggestqueries.google.com/complete/search\""
   ]
  },
  {
   "cell_type": "code",
   "execution_count": 5,
   "metadata": {},
   "outputs": [],
   "source": [
    "parametros = {\n",
    "    'client': 'firefox',\n",
    "    'q': 'python é'\n",
    "}\n",
    "resposta = requests.get(url, parametros)"
   ]
  },
  {
   "cell_type": "code",
   "execution_count": 7,
   "metadata": {},
   "outputs": [
    {
     "name": "stdout",
     "output_type": "stream",
     "text": [
      "[\"python é\",[\"python é orientado a objeto\",\"python é fortemente tipado\",\"python é gratuito\",\"python é venenosa\",\"python é case sensitive\",\"python é uma linguagem interpretada\",\"python é dificil\",\"python é bom\",\"python é usado para que\",\"python é back end\"]]\n"
     ]
    }
   ],
   "source": [
    "print(resposta.text)"
   ]
  },
  {
   "cell_type": "code",
   "execution_count": 8,
   "metadata": {},
   "outputs": [],
   "source": [
    "dados = resposta.json()"
   ]
  },
  {
   "cell_type": "code",
   "execution_count": 9,
   "metadata": {},
   "outputs": [
    {
     "data": {
      "text/plain": [
       "['python é',\n",
       " ['python é orientado a objeto',\n",
       "  'python é fortemente tipado',\n",
       "  'python é gratuito',\n",
       "  'python é venenosa',\n",
       "  'python é case sensitive',\n",
       "  'python é uma linguagem interpretada',\n",
       "  'python é dificil',\n",
       "  'python é bom',\n",
       "  'python é usado para que',\n",
       "  'python é back end']]"
      ]
     },
     "execution_count": 9,
     "metadata": {},
     "output_type": "execute_result"
    }
   ],
   "source": [
    "dados"
   ]
  },
  {
   "cell_type": "code",
   "execution_count": 10,
   "metadata": {},
   "outputs": [
    {
     "data": {
      "text/plain": [
       "list"
      ]
     },
     "execution_count": 10,
     "metadata": {},
     "output_type": "execute_result"
    }
   ],
   "source": [
    "type(dados)"
   ]
  },
  {
   "cell_type": "code",
   "execution_count": 11,
   "metadata": {},
   "outputs": [],
   "source": [
    "sugestoes = dados[1]"
   ]
  },
  {
   "cell_type": "code",
   "execution_count": 12,
   "metadata": {},
   "outputs": [
    {
     "data": {
      "text/plain": [
       "['python é orientado a objeto',\n",
       " 'python é fortemente tipado',\n",
       " 'python é gratuito',\n",
       " 'python é venenosa',\n",
       " 'python é case sensitive',\n",
       " 'python é uma linguagem interpretada',\n",
       " 'python é dificil',\n",
       " 'python é bom',\n",
       " 'python é usado para que',\n",
       " 'python é back end']"
      ]
     },
     "execution_count": 12,
     "metadata": {},
     "output_type": "execute_result"
    }
   ],
   "source": [
    "sugestoes"
   ]
  },
  {
   "cell_type": "code",
   "execution_count": 13,
   "metadata": {},
   "outputs": [
    {
     "data": {
      "text/plain": [
       "['python é',\n",
       " ['python é orientado a objeto',\n",
       "  'python é fortemente tipado',\n",
       "  'python é gratuito',\n",
       "  'python é venenosa',\n",
       "  'python é case sensitive',\n",
       "  'python é uma linguagem interpretada',\n",
       "  'python é dificil',\n",
       "  'python é bom',\n",
       "  'python é usado para que',\n",
       "  'python é back end']]"
      ]
     },
     "execution_count": 13,
     "metadata": {},
     "output_type": "execute_result"
    }
   ],
   "source": [
    "dados"
   ]
  },
  {
   "cell_type": "code",
   "execution_count": 14,
   "metadata": {},
   "outputs": [],
   "source": [
    "dados.append({'nome': 'fulano'})"
   ]
  },
  {
   "cell_type": "code",
   "execution_count": 15,
   "metadata": {},
   "outputs": [
    {
     "data": {
      "text/plain": [
       "['python é',\n",
       " ['python é orientado a objeto',\n",
       "  'python é fortemente tipado',\n",
       "  'python é gratuito',\n",
       "  'python é venenosa',\n",
       "  'python é case sensitive',\n",
       "  'python é uma linguagem interpretada',\n",
       "  'python é dificil',\n",
       "  'python é bom',\n",
       "  'python é usado para que',\n",
       "  'python é back end'],\n",
       " {'nome': 'fulano'}]"
      ]
     },
     "execution_count": 15,
     "metadata": {},
     "output_type": "execute_result"
    }
   ],
   "source": [
    "dados"
   ]
  },
  {
   "cell_type": "code",
   "execution_count": 16,
   "metadata": {},
   "outputs": [],
   "source": [
    "dados[1][0] = 'python é O.O.'"
   ]
  },
  {
   "cell_type": "code",
   "execution_count": 17,
   "metadata": {},
   "outputs": [
    {
     "data": {
      "text/plain": [
       "['python é',\n",
       " ['python é O.O.',\n",
       "  'python é fortemente tipado',\n",
       "  'python é gratuito',\n",
       "  'python é venenosa',\n",
       "  'python é case sensitive',\n",
       "  'python é uma linguagem interpretada',\n",
       "  'python é dificil',\n",
       "  'python é bom',\n",
       "  'python é usado para que',\n",
       "  'python é back end'],\n",
       " {'nome': 'fulano'}]"
      ]
     },
     "execution_count": 17,
     "metadata": {},
     "output_type": "execute_result"
    }
   ],
   "source": [
    "dados"
   ]
  },
  {
   "cell_type": "code",
   "execution_count": 18,
   "metadata": {},
   "outputs": [],
   "source": [
    "dados[1].append('python é legal')"
   ]
  },
  {
   "cell_type": "code",
   "execution_count": 19,
   "metadata": {},
   "outputs": [
    {
     "data": {
      "text/plain": [
       "['python é',\n",
       " ['python é O.O.',\n",
       "  'python é fortemente tipado',\n",
       "  'python é gratuito',\n",
       "  'python é venenosa',\n",
       "  'python é case sensitive',\n",
       "  'python é uma linguagem interpretada',\n",
       "  'python é dificil',\n",
       "  'python é bom',\n",
       "  'python é usado para que',\n",
       "  'python é back end',\n",
       "  'python é legal'],\n",
       " {'nome': 'fulano'}]"
      ]
     },
     "execution_count": 19,
     "metadata": {},
     "output_type": "execute_result"
    }
   ],
   "source": [
    "dados"
   ]
  },
  {
   "cell_type": "code",
   "execution_count": 21,
   "metadata": {},
   "outputs": [
    {
     "name": "stdout",
     "output_type": "stream",
     "text": [
      "[\"python é\",[\"python é orientado a objeto\",\"python é fortemente tipado\",\"python é gratuito\",\"python é venenosa\",\"python é case sensitive\",\"python é uma linguagem interpretada\",\"python é dificil\",\"python é bom\",\"python é usado para que\",\"python é back end\",\"python é uma linguagem de programação\",\"python é facil\",\"python é pago\",\"python é open source\",\"python é lento\",\"python é multiplataforma\",\"python é de graça\",\"python é back end ou front end\",\"python é uma linguagem estruturada\",\"python é bom para que\"],[\"\",\"\",\"\",\"\",\"\",\"\",\"\",\"\",\"\",\"\",\"\",\"\",\"\",\"\",\"\",\"\",\"\",\"\",\"\",\"\"],[],{\"google:clientdata\":{\"bpc\":false,\"tlw\":false},\"google:suggestrelevance\":[601,600,567,566,565,564,563,562,561,560,559,558,557,556,555,554,553,552,551,550],\"google:suggesttype\":[\"QUERY\",\"QUERY\",\"QUERY\",\"QUERY\",\"QUERY\",\"QUERY\",\"QUERY\",\"QUERY\",\"QUERY\",\"QUERY\",\"QUERY\",\"QUERY\",\"QUERY\",\"QUERY\",\"QUERY\",\"QUERY\",\"QUERY\",\"QUERY\",\"QUERY\",\"QUERY\"],\"google:verbatimrelevance\":851}]\n"
     ]
    }
   ],
   "source": [
    "parametros = {\n",
    "    'client': 'chrome',\n",
    "    'q': 'python é'\n",
    "}\n",
    "resposta = requests.get(url, parametros)\n",
    "print(resposta.text)"
   ]
  },
  {
   "cell_type": "code",
   "execution_count": 22,
   "metadata": {},
   "outputs": [
    {
     "data": {
      "text/plain": [
       "requests.models.Response"
      ]
     },
     "execution_count": 22,
     "metadata": {},
     "output_type": "execute_result"
    }
   ],
   "source": [
    "type(resposta)"
   ]
  },
  {
   "cell_type": "code",
   "execution_count": 23,
   "metadata": {},
   "outputs": [
    {
     "data": {
      "text/plain": [
       "builtin_function_or_method"
      ]
     },
     "execution_count": 23,
     "metadata": {},
     "output_type": "execute_result"
    }
   ],
   "source": [
    "type(len)"
   ]
  },
  {
   "cell_type": "code",
   "execution_count": null,
   "metadata": {},
   "outputs": [],
   "source": []
  }
 ],
 "metadata": {
  "kernelspec": {
   "display_name": "Python 3",
   "language": "python",
   "name": "python3"
  },
  "language_info": {
   "codemirror_mode": {
    "name": "ipython",
    "version": 3
   },
   "file_extension": ".py",
   "mimetype": "text/x-python",
   "name": "python",
   "nbconvert_exporter": "python",
   "pygments_lexer": "ipython3",
   "version": "3.6.8"
  }
 },
 "nbformat": 4,
 "nbformat_minor": 4
}
