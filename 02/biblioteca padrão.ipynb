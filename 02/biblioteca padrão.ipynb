{
 "cells": [
  {
   "cell_type": "code",
   "execution_count": 1,
   "metadata": {},
   "outputs": [],
   "source": [
    "import os"
   ]
  },
  {
   "cell_type": "code",
   "execution_count": 5,
   "metadata": {},
   "outputs": [
    {
     "data": {
      "text/plain": [
       "0"
      ]
     },
     "execution_count": 5,
     "metadata": {},
     "output_type": "execute_result"
    }
   ],
   "source": [
    "#os.system(\"ping www.google.com -n 5\") # Windows\n",
    "os.system(\"ping www.google.com -c 5\") # Linux/Mac"
   ]
  },
  {
   "cell_type": "code",
   "execution_count": 6,
   "metadata": {},
   "outputs": [],
   "source": [
    "import subprocess"
   ]
  },
  {
   "cell_type": "code",
   "execution_count": 7,
   "metadata": {},
   "outputs": [],
   "source": [
    "saida = subprocess.check_output([\"ping\", \"www.google.com\", \"-c\", \"5\"])"
   ]
  },
  {
   "cell_type": "code",
   "execution_count": 8,
   "metadata": {},
   "outputs": [
    {
     "data": {
      "text/plain": [
       "b'PING www.google.com (216.58.202.196) 56(84) bytes of data.\\n64 bytes from gru06s31-in-f4.1e100.net (216.58.202.196): icmp_seq=1 ttl=45 time=43.0 ms\\n64 bytes from gru06s31-in-f4.1e100.net (216.58.202.196): icmp_seq=2 ttl=45 time=42.8 ms\\n64 bytes from gru06s31-in-f4.1e100.net (216.58.202.196): icmp_seq=3 ttl=45 time=43.0 ms\\n64 bytes from gru06s31-in-f4.1e100.net (216.58.202.196): icmp_seq=4 ttl=45 time=42.8 ms\\n64 bytes from gru06s31-in-f4.1e100.net (216.58.202.196): icmp_seq=5 ttl=45 time=42.8 ms\\n\\n--- www.google.com ping statistics ---\\n5 packets transmitted, 5 received, 0% packet loss, time 4006ms\\nrtt min/avg/max/mdev = 42.800/42.912/43.036/0.208 ms\\n'"
      ]
     },
     "execution_count": 8,
     "metadata": {},
     "output_type": "execute_result"
    }
   ],
   "source": [
    "saida"
   ]
  },
  {
   "cell_type": "code",
   "execution_count": 9,
   "metadata": {},
   "outputs": [],
   "source": [
    "saida = saida.decode('utf-8')"
   ]
  },
  {
   "cell_type": "code",
   "execution_count": 10,
   "metadata": {},
   "outputs": [
    {
     "name": "stdout",
     "output_type": "stream",
     "text": [
      "PING www.google.com (216.58.202.196) 56(84) bytes of data.\n",
      "64 bytes from gru06s31-in-f4.1e100.net (216.58.202.196): icmp_seq=1 ttl=45 time=43.0 ms\n",
      "64 bytes from gru06s31-in-f4.1e100.net (216.58.202.196): icmp_seq=2 ttl=45 time=42.8 ms\n",
      "64 bytes from gru06s31-in-f4.1e100.net (216.58.202.196): icmp_seq=3 ttl=45 time=43.0 ms\n",
      "64 bytes from gru06s31-in-f4.1e100.net (216.58.202.196): icmp_seq=4 ttl=45 time=42.8 ms\n",
      "64 bytes from gru06s31-in-f4.1e100.net (216.58.202.196): icmp_seq=5 ttl=45 time=42.8 ms\n",
      "\n",
      "--- www.google.com ping statistics ---\n",
      "5 packets transmitted, 5 received, 0% packet loss, time 4006ms\n",
      "rtt min/avg/max/mdev = 42.800/42.912/43.036/0.208 ms\n",
      "\n"
     ]
    }
   ],
   "source": [
    "print(saida)"
   ]
  },
  {
   "cell_type": "code",
   "execution_count": 17,
   "metadata": {},
   "outputs": [],
   "source": [
    "import re\n",
    "def retorna_ip(site):\n",
    "    saida = subprocess.check_output([\"ping\", site, \"-c\", \"1\"])\n",
    "    saida = saida.decode('utf-8')\n",
    "    print(saida)\n",
    "    ips = re.findall('\\d{1,3}\\.\\d{1,3}\\.\\d{1,3}\\.\\d{1,3}', saida)\n",
    "    return ips[0]"
   ]
  },
  {
   "cell_type": "code",
   "execution_count": 18,
   "metadata": {},
   "outputs": [
    {
     "name": "stdout",
     "output_type": "stream",
     "text": [
      "PING www.google.com (172.217.29.4) 56(84) bytes of data.\n",
      "64 bytes from 172.217.29.4 (172.217.29.4): icmp_seq=1 ttl=45 time=45.6 ms\n",
      "\n",
      "--- www.google.com ping statistics ---\n",
      "1 packets transmitted, 1 received, 0% packet loss, time 0ms\n",
      "rtt min/avg/max/mdev = 45.656/45.656/45.656/0.000 ms\n",
      "\n"
     ]
    },
    {
     "data": {
      "text/plain": [
       "'172.217.29.4'"
      ]
     },
     "execution_count": 18,
     "metadata": {},
     "output_type": "execute_result"
    }
   ],
   "source": [
    "retorna_ip('www.google.com')"
   ]
  },
  {
   "cell_type": "code",
   "execution_count": null,
   "metadata": {},
   "outputs": [],
   "source": []
  }
 ],
 "metadata": {
  "kernelspec": {
   "display_name": "Python 3",
   "language": "python",
   "name": "python3"
  },
  "language_info": {
   "codemirror_mode": {
    "name": "ipython",
    "version": 3
   },
   "file_extension": ".py",
   "mimetype": "text/x-python",
   "name": "python",
   "nbconvert_exporter": "python",
   "pygments_lexer": "ipython3",
   "version": "3.6.8"
  }
 },
 "nbformat": 4,
 "nbformat_minor": 4
}
