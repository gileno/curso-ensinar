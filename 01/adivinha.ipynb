{
 "cells": [
  {
   "cell_type": "code",
   "execution_count": 1,
   "metadata": {},
   "outputs": [
    {
     "name": "stdout",
     "output_type": "stream",
     "text": [
      "Digite um número: 10\n"
     ]
    }
   ],
   "source": [
    "numero = 10\n",
    "chute = input(\"Digite um número: \")"
   ]
  },
  {
   "cell_type": "code",
   "execution_count": 2,
   "metadata": {},
   "outputs": [
    {
     "data": {
      "text/plain": [
       "False"
      ]
     },
     "execution_count": 2,
     "metadata": {},
     "output_type": "execute_result"
    }
   ],
   "source": [
    "numero == chute"
   ]
  },
  {
   "cell_type": "code",
   "execution_count": 3,
   "metadata": {},
   "outputs": [
    {
     "data": {
      "text/plain": [
       "int"
      ]
     },
     "execution_count": 3,
     "metadata": {},
     "output_type": "execute_result"
    }
   ],
   "source": [
    "type(numero)"
   ]
  },
  {
   "cell_type": "code",
   "execution_count": 4,
   "metadata": {},
   "outputs": [
    {
     "data": {
      "text/plain": [
       "str"
      ]
     },
     "execution_count": 4,
     "metadata": {},
     "output_type": "execute_result"
    }
   ],
   "source": [
    "type(chute)"
   ]
  },
  {
   "cell_type": "code",
   "execution_count": 5,
   "metadata": {},
   "outputs": [],
   "source": [
    "chute = int(chute)"
   ]
  },
  {
   "cell_type": "code",
   "execution_count": 6,
   "metadata": {},
   "outputs": [
    {
     "data": {
      "text/plain": [
       "True"
      ]
     },
     "execution_count": 6,
     "metadata": {},
     "output_type": "execute_result"
    }
   ],
   "source": [
    "numero == chute"
   ]
  },
  {
   "cell_type": "code",
   "execution_count": 7,
   "metadata": {},
   "outputs": [],
   "source": [
    "import random"
   ]
  },
  {
   "cell_type": "code",
   "execution_count": 25,
   "metadata": {},
   "outputs": [
    {
     "data": {
      "text/plain": [
       "4"
      ]
     },
     "execution_count": 25,
     "metadata": {},
     "output_type": "execute_result"
    }
   ],
   "source": [
    "random.randint(1, 10)"
   ]
  },
  {
   "cell_type": "code",
   "execution_count": 26,
   "metadata": {},
   "outputs": [
    {
     "name": "stdout",
     "output_type": "stream",
     "text": [
      "Digite um número: 3\n",
      "Fim do programa, o número era: 5\n"
     ]
    }
   ],
   "source": [
    "numero = random.randint(1, 5)\n",
    "chute = int(input(\"Digite um número: \"))\n",
    "#chute = int(chute)\n",
    "if numero == chute:\n",
    "    print(\"Acertou\")\n",
    "print(\"Fim do programa, o número era:\", numero)"
   ]
  },
  {
   "cell_type": "code",
   "execution_count": 30,
   "metadata": {},
   "outputs": [
    {
     "name": "stdout",
     "output_type": "stream",
     "text": [
      "Digite um número: 1\n",
      "Acertou\n",
      "Fim do programa, o número era: 1\n"
     ]
    }
   ],
   "source": [
    "numero = random.randint(1, 5)\n",
    "chute = int(input(\"Digite um número: \"))\n",
    "if numero == chute:\n",
    "    print(\"Acertou\")\n",
    "else:\n",
    "    print(\"Errou\")\n",
    "print(\"Fim do programa, o número era:\", numero)"
   ]
  },
  {
   "cell_type": "code",
   "execution_count": 33,
   "metadata": {},
   "outputs": [
    {
     "name": "stdout",
     "output_type": "stream",
     "text": [
      "Digite um número: 8\n",
      "Errou, o número era menor\n",
      "Fim do programa: 4\n"
     ]
    }
   ],
   "source": [
    "numero = random.randint(1, 10)\n",
    "chute = int(input(\"Digite um número: \"))\n",
    "diferenca = numero - chute\n",
    "if diferenca == 0:\n",
    "    print(\"Acertou\")\n",
    "elif diferenca > 0:\n",
    "    print(\"Errou, o número era maior\")\n",
    "else:\n",
    "    print(\"Errou, o número era menor\")\n",
    "print(\"Fim do programa:\", numero)"
   ]
  },
  {
   "cell_type": "code",
   "execution_count": 34,
   "metadata": {},
   "outputs": [
    {
     "name": "stdout",
     "output_type": "stream",
     "text": [
      "Digite um número: 6\n",
      "Errou, o número era menor\n",
      "Digite um número: 3\n",
      "Errou, o número era maior\n",
      "Fim do programa: 5\n"
     ]
    }
   ],
   "source": [
    "numero = random.randint(1, 10)\n",
    "\n",
    "chute = int(input(\"Digite um número: \"))\n",
    "diferenca = numero - chute\n",
    "if diferenca == 0:\n",
    "    print(\"Acertou\")\n",
    "elif diferenca > 0:\n",
    "    print(\"Errou, o número era maior\")\n",
    "else:\n",
    "    print(\"Errou, o número era menor\")\n",
    "\n",
    "chute = int(input(\"Digite um número: \"))\n",
    "diferenca = numero - chute\n",
    "if diferenca == 0:\n",
    "    print(\"Acertou\")\n",
    "elif diferenca > 0:\n",
    "    print(\"Errou, o número era maior\")\n",
    "else:\n",
    "    print(\"Errou, o número era menor\")\n",
    "\n",
    "print(\"Fim do programa:\", numero)"
   ]
  },
  {
   "cell_type": "code",
   "execution_count": 36,
   "metadata": {},
   "outputs": [
    {
     "name": "stdout",
     "output_type": "stream",
     "text": [
      "Digite um número: 3\n",
      "Errou, o número era maior\n",
      "Digite um número: 8\n",
      "Acertou\n",
      "Digite um número: 9\n",
      "Errou, o número era menor\n",
      "Fim do programa: 8\n"
     ]
    }
   ],
   "source": [
    "numero = random.randint(1, 10)\n",
    "chance = 0\n",
    "\n",
    "while chance < 3:\n",
    "    chute = int(input(\"Digite um número: \"))\n",
    "    diferenca = numero - chute\n",
    "    if diferenca == 0:\n",
    "        print(\"Acertou\")\n",
    "    elif diferenca > 0:\n",
    "        print(\"Errou, o número era maior\")\n",
    "    else:\n",
    "        print(\"Errou, o número era menor\")\n",
    "    chance = chance + 1\n",
    "    \n",
    "print(\"Fim do programa:\", numero)"
   ]
  },
  {
   "cell_type": "code",
   "execution_count": 39,
   "metadata": {},
   "outputs": [
    {
     "name": "stdout",
     "output_type": "stream",
     "text": [
      "Digite um número: 3\n",
      "Acertou\n",
      "Fim do programa: 3\n"
     ]
    }
   ],
   "source": [
    "numero = random.randint(1, 5)\n",
    "chance = 0\n",
    "\n",
    "while chance < 3:\n",
    "    chute = int(input(\"Digite um número: \"))\n",
    "    diferenca = numero - chute\n",
    "    if diferenca == 0:\n",
    "        print(\"Acertou\")\n",
    "        break\n",
    "    elif diferenca > 0:\n",
    "        print(\"Errou, o número era maior\")\n",
    "    else:\n",
    "        print(\"Errou, o número era menor\")\n",
    "    chance = chance + 1\n",
    "    \n",
    "print(\"Fim do programa:\", numero)"
   ]
  },
  {
   "cell_type": "code",
   "execution_count": null,
   "metadata": {},
   "outputs": [],
   "source": []
  }
 ],
 "metadata": {
  "kernelspec": {
   "display_name": "Python 3",
   "language": "python",
   "name": "python3"
  },
  "language_info": {
   "codemirror_mode": {
    "name": "ipython",
    "version": 3
   },
   "file_extension": ".py",
   "mimetype": "text/x-python",
   "name": "python",
   "nbconvert_exporter": "python",
   "pygments_lexer": "ipython3",
   "version": "3.6.8"
  }
 },
 "nbformat": 4,
 "nbformat_minor": 4
}
