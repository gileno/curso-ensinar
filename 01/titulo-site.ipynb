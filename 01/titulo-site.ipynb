{
 "cells": [
  {
   "cell_type": "code",
   "execution_count": 2,
   "metadata": {},
   "outputs": [
    {
     "name": "stdout",
     "output_type": "stream",
     "text": [
      "Requirement already satisfied: requests in /home/gileno/workspace/cursos/curso-ensinar/venv/lib/python3.6/site-packages (2.22.0)\r\n",
      "Requirement already satisfied: idna<2.9,>=2.5 in /home/gileno/workspace/cursos/curso-ensinar/venv/lib/python3.6/site-packages (from requests) (2.8)\r\n",
      "Requirement already satisfied: chardet<3.1.0,>=3.0.2 in /home/gileno/workspace/cursos/curso-ensinar/venv/lib/python3.6/site-packages (from requests) (3.0.4)\r\n",
      "Requirement already satisfied: certifi>=2017.4.17 in /home/gileno/workspace/cursos/curso-ensinar/venv/lib/python3.6/site-packages (from requests) (2019.11.28)\r\n",
      "Requirement already satisfied: urllib3!=1.25.0,!=1.25.1,<1.26,>=1.21.1 in /home/gileno/workspace/cursos/curso-ensinar/venv/lib/python3.6/site-packages (from requests) (1.25.7)\r\n"
     ]
    }
   ],
   "source": [
    "!pip3 install requests"
   ]
  },
  {
   "cell_type": "code",
   "execution_count": 3,
   "metadata": {},
   "outputs": [],
   "source": [
    "import requests"
   ]
  },
  {
   "cell_type": "code",
   "execution_count": 4,
   "metadata": {},
   "outputs": [],
   "source": [
    "resposta = requests.get(\"http://www.gilenofilho.com.br/\")"
   ]
  },
  {
   "cell_type": "code",
   "execution_count": 5,
   "metadata": {},
   "outputs": [
    {
     "data": {
      "text/plain": [
       "'<!DOCTYPE html>\\n<html xmlns=\"http://www.w3.org/1999/xhtml\"\\n    xmlns:og=\"http://ogp.me/ns#\"\\n    xmlns:fb=\"https://www.facebook.com/2008/fbml\"\\n    itemscope itemtype=\"http://schema.org/Blog\"\\n    lang=\"pt\">\\n    <head>\\n        <meta http-equiv=\"Content-Type\" content=\"text/html; charset=UTF-8\"/>\\n        <meta name=\"viewport\" content=\"width=device-width, initial-scale=1, maximum-scale=1.0\"/>\\n        <meta http-equiv=\"content-language\" content=\"pt-br\">\\n        <meta name=\"robots\" content=\"index, follow\">\\n        <meta name=\"description\" content=\"Website Gileno Filho\"/>\\n        <meta name=\"keywords\" content=\"programação, python, recife, desenvolvimento, data science\"/>\\n        <meta name=\"author\" content=\"Gileno Filho\">\\n        <meta name=\"generator\" content=\"Pelican\">\\n        <title>Gileno Filho</title>\\n\\n        <!-- Feeds -->\\n            <link href=\"http://www.gilenofilho.com.br/feeds.atom\" type=\"application/atom+xml\" rel=\"alternate\" title=\"Gileno Filho ATOM Feed\"/>\\n            <link href=\"http://www.gilenofilho.com.br/feeds.rss\" type=\"application/rss+xml\" rel=\"alternate\" title=\"Gileno Filho RSS Feed\"/>\\n\\n        <!-- CSS  -->\\n        <link rel=\"stylesheet\" href=\"/theme/css/font-awesome.min.css\">\\n        <link href=\"/theme/css/bootstrap.css\" type=\"text/css\" rel=\"stylesheet\" />\\n        <link href=\"/theme/css/style.css\" type=\"text/css\" rel=\"stylesheet\" />\\n        <!-- HTML5 shim and Respond.js IE8 support of HTML5 elements and media queries -->\\n        <!--[if lt IE 9]>\\n          <script src=\"https://oss.maxcdn.com/libs/html5shiv/3.7.0/html5shiv.js\"></script>\\n          <script src=\"https://oss.maxcdn.com/libs/respond.js/1.4.2/respond.min.js\"></script>\\n        <![endif]-->\\n        <!-- Metadata -->\\n        <meta property=\"og:type\" content=\"website\"/>\\n\\n        <!-- Google Analytics -->\\n        <script>\\n          (function(i,s,o,g,r,a,m){i[\\'GoogleAnalyticsObject\\']=r;i[r]=i[r]||function(){\\n          (i[r].q=i[r].q||[]).push(arguments)},i[r].l=1*new Date();a=s.createElement(o),\\n          m=s.getElementsByTagName(o)[0];a.async=1;a.src=g;m.parentNode.insertBefore(a,m)\\n          })(window,document,\\'script\\',\\'//www.google-analytics.com/analytics.js\\',\\'ga\\');\\n          ga(\\'create\\', \\'UA-15015773-2\\', \\'auto\\');\\n          ga(\\'send\\', \\'pageview\\');\\n        </script>\\n\\n    </head>\\n\\n    <body>\\n        <header>\\n<!-- Fixed navbar -->\\n<div class=\"navbar navbar-default navbar-fixed-top\" role=\"navigation\">\\n  <div class=\"container\">\\n    <div class=\"navbar-header\">\\n      <button type=\"button\" class=\"navbar-toggle\" data-toggle=\"collapse\" data-target=\".navbar-collapse\">\\n        <span class=\"sr-only\">Toggle navigation</span>\\n        <span class=\"icon-bar\"></span>\\n        <span class=\"icon-bar\"></span>\\n        <span class=\"icon-bar\"></span>\\n      </button>\\n      <a class=\"navbar-brand\" href=\"/\">Gileno Filho</a>\\n    </div>\\n    <div class=\"navbar-collapse collapse navbar-right\">\\n      <ul class=\"nav navbar-nav\">\\n        <li><a href=\"/\">Início</a></li>\\n          <li ><a href=\"/sobre\">Sobre</a></li>\\n          <li ><a href=\"/categorias/cursos/\">Cursos</a></li>\\n          <li ><a href=\"/categorias/palestras/\">Palestas</a></li>\\n          <li ><a href=\"/categorias/tutoriais/\">Tutoriais</a></li>\\n          <li ><a href=\"/categorias/utils/\">Utils</a></li>\\n      </ul>\\n    </div><!--/.nav-collapse -->\\n  </div>\\n</div>            <div id=\"blue\">\\n                <div class=\"container\">\\n                    <div class=\"row\">\\n                        <h3>\\n    programador, cientista, pythonista e minimalista. Recife, Brasil\\n</h3>\\n                    </div><!-- /row -->\\n                </div> <!-- /container -->\\n            </div><!-- /blue -->\\n        </header>\\n        <main>\\n            <!-- Content -->\\n            <div class=\"container mtb\">\\n                <div class=\"col-md-8\">\\n<ol class=\"breadcrumb\">\\n    <li>\\n    <a title=\"Gileno Filho Home\" href=\"/\"><i class=\"fa fa-home pr-10\"></i> Início</a>\\n    </li>\\n</ol><article>\\n    <a href=\"/python-datasets\"><h3 class=\"ctitle\">Bibliotecas Python para carregar Dataset\\'s</h3></a>\\n    <p>\\n        Publicado em:  <time datetime=\"2017-01-02T09:00:00-03:00\">Seg 02 janeiro 2017</time>.\\n        |\\n        Por: <a href=\"/autores/gileno-filho\">Gileno Filho</a>\\n        |\\n        Arquivado em: <a href=\"/categorias/tutoriais\">tutoriais</a>\\n    </p>\\n    <p>\\n        <p>Desde que a biblioteca <a href=\"http://pandas.pydata.org/\">Pandas</a> se tornou bastante popular em análise de dados com Python, várias outras libs surgiram para auxiliar a importação de dados para objetos do tipo DataFrame (utilizados pelo Pandas).</p>\\n<p>Neste artigo irei comentar sobre duas libs:</p>\\n<ul>\\n<li><a href=\"https://github.com/yhat/db.py\">db.py</a>: Facilita a importação de bancos de dados para ...</li></ul>\\n    </p>\\n    <p><a href=\"/python-datasets\">[Leia mais]</a></p>\\n    <div class=\"hline\"></div>\\n    <div class=\"spacing\"></div>\\n</article>\\n<article>\\n    <a href=\"/como-funciona-o-orm-do-django\"><h3 class=\"ctitle\">Como funciona o ORM do Django</h3></a>\\n    <p>\\n        Publicado em:  <time datetime=\"2016-07-15T22:00:00-03:00\">Sex 15 julho 2016</time>.\\n        |\\n        Por: <a href=\"/autores/gileno-filho\">Gileno Filho</a>\\n        |\\n        Arquivado em: <a href=\"/categorias/tutoriais\">tutoriais</a>\\n    </p>\\n    <p>\\n        <p>Uma das coisas mais interessantes do framework <a href=\"https://djangoproject.com/\">Django</a> é sem dúvidas o seu <a href=\"https://pt.wikipedia.org/wiki/Mapeamento_objeto-relacional\">ORM</a>. E o que o torna interessante é a sua simplicidade e objetividade quando se utiliza os <a href=\"https://docs.djangoproject.com/en/1.9/ref/models/lookups/\">Lookups</a> para realizar consultas simples e até as complexas que envolvem join\\'s.</p>\\n<p>Neste artigo irei explorar algumas coisas básicas ...</p>\\n    </p>\\n    <p><a href=\"/como-funciona-o-orm-do-django\">[Leia mais]</a></p>\\n    <div class=\"hline\"></div>\\n    <div class=\"spacing\"></div>\\n</article>\\n<article>\\n    <a href=\"/curso-gratuito-de-django-com-python-3\"><h3 class=\"ctitle\">Curso Gratuito de Django com Python 3</h3></a>\\n    <p>\\n        Publicado em:  <time datetime=\"2016-03-23T13:40:00-03:00\">Qua 23 março 2016</time>.\\n        |\\n        Por: <a href=\"/autores/gileno-filho\">Gileno Filho</a>\\n        |\\n        Arquivado em: <a href=\"/categorias/cursos\">cursos</a>\\n    </p>\\n    <p>\\n        <p>Olá pessoal, a algum tempo eu fechei as inscrições do meu curso de Django com Python 3 que comecei em 2014. Neste curso foi desenvolvido um projeto chamado SimpleMOOC, uma simples plataforma para ensino a distância que tinha fins didáticos.</p>\\n<p>Recentemente eu resolvi disponibilizar as vídeo-aulas desse curso pois irei ...</p>\\n    </p>\\n    <p><a href=\"/curso-gratuito-de-django-com-python-3\">[Leia mais]</a></p>\\n    <div class=\"hline\"></div>\\n    <div class=\"spacing\"></div>\\n</article>\\n<article>\\n    <a href=\"/programacao-felicidade-mercado-e-outras-coisas\"><h3 class=\"ctitle\">Programação, felicidade, mercado e outras coisas...</h3></a>\\n    <p>\\n        Publicado em:  <time datetime=\"2015-11-10T17:00:00-03:00\">Ter 10 novembro 2015</time>.\\n        |\\n        Por: <a href=\"/autores/gileno-filho\">Gileno Filho</a>\\n        |\\n        Arquivado em: <a href=\"/categorias/utils\">utils</a>\\n    </p>\\n    <p>\\n        <p>Obs: No final do texto tem alguns links e palestras interessantes mas vou contextualizar minha história antes.</p>\\n<p>Nos últimos 2 anos eu tenho estudado bastante coisas relacionadas a Lifestyle Business, e isso começou quando eu percebi que o buraco negro corporativo e nem o conto de fadas das startups eram ...</p>\\n    </p>\\n    <p><a href=\"/programacao-felicidade-mercado-e-outras-coisas\">[Leia mais]</a></p>\\n    <div class=\"hline\"></div>\\n    <div class=\"spacing\"></div>\\n</article>\\n<article>\\n    <a href=\"/usando-o-scrapy-e-o-rethinkdb-para-capturar-e-armazenar-dados-imobiliarios-parte-iii\"><h3 class=\"ctitle\">Usando o Scrapy e o Rethinkdb para capturar e armazenar dados imobiliários - Parte III</h3></a>\\n    <p>\\n        Publicado em:  <time datetime=\"2015-09-08T13:33:00-03:00\">Ter 08 setembro 2015</time>.\\n        |\\n        Por: <a href=\"/autores/gileno-filho\">Gileno Filho</a>\\n        |\\n        Arquivado em: <a href=\"/categorias/tutoriais\">tutoriais</a>\\n    </p>\\n    <p>\\n        <h3>Introdução</h3>\\n<p>Olá pessoal, esta é a parte III da série sobre o Scrapy, abaixo os links para todos os artigos da série:</p>\\n<ul>\\n<li><a href=\"http://gilenofilho.com.br/usando-o-scrapy-e-o-rethinkdb-para-capturar-e-armazenar-dados-imobiliarios-parte-i/\">Parte I - Configurando e rodando o Scrapy</a></li>\\n<li><a href=\"http://gilenofilho.com.br/usando-o-scrapy-e-o-rethinkdb-para-capturar-e-armazenar-dados-imobiliarios-parte-ii/\">Parte II - Instalando, configurando e armazenando os dados no Rethinkdb</a></li>\\n<li><a href=\"http://gilenofilho.com.br/usando-o-scrapy-e-o-rethinkdb-para-capturar-e-armazenar-dados-imobiliarios-parte-iii/\">Parte III - Deploy do projeto Scrapy</a></li>\\n</ul>\\n<p>Nos artigos anteriores mostrei como ...</p>\\n    </p>\\n    <p><a href=\"/usando-o-scrapy-e-o-rethinkdb-para-capturar-e-armazenar-dados-imobiliarios-parte-iii\">[Leia mais]</a></p>\\n    <div class=\"hline\"></div>\\n    <div class=\"spacing\"></div>\\n</article>\\n<nav>\\n    <ul class=\"pagination\">\\n        <li class=\"disabled\">\\n            <a href=\"\" aria-label=\"Previous\"><span aria-hidden=\"true\">&laquo;</span></a>\\n        </li>\\n                <li class=\"active\"><a href=\"\">1</a></li>\\n                <li><a href=\"/page/2/\">2</a></li>\\n                <li><a href=\"/page/3/\">3</a></li>\\n                <li><a href=\"/page/4/\">4</a></li>\\n                <li><a href=\"/page/5/\">5</a></li>\\n                <li><a href=\"/page/6/\">6</a></li>\\n        <li>\\n          <a href=\"/page/2/\" aria-label=\"Next\">\\n            <span aria-hidden=\"true\">&raquo;</span>\\n          </a>\\n        </li>\\n    </ul>\\n</nav>\\n                </div>\\n                <div class=\"col-md-4\">\\n                    <h4><a href=\"https://www.udemy.com/construa-um-e-commerce-com-python-3-e-django/?couponCode=websitegilenofilho\">Construa um E-Commerce com Python e Django</a></h4>\\n                    <a href=\"https://www.udemy.com/construa-um-e-commerce-com-python-3-e-django/?couponCode=websitegilenofilho\">\\n                        <img src=\"/images/django-udemy.jpg\" alt=\"Construa um E-Commerce com Python e Django\" class=\"img-responsive\" />\\n                    </a>\\n    \\t\\t \\t\\t<h4>Pesquisar</h4>\\n    \\t\\t \\t\\t<div class=\"hline\"></div>\\n\\t\\t \\t\\t\\t<p>\\n\\t\\t \\t\\t\\t\\t<br>\\n                        <form class=\"\" action=\"https://www.google.com/search\" method=\"get\">\\n                            <input name=\"q\" type=\"text\" class=\"form-control\" placeholder=\"Pesquisar...\" />\\n                            <input type=\"hidden\" name=\"sitesearch\" value=\"http://www.gilenofilho.com.br\">\\n                        </form>\\n\\t\\t \\t\\t\\t</p>\\n    \\t\\t \\t\\t<div class=\"spacing\"></div>\\n\\n    \\t\\t \\t\\t<h4>Categorias</h4>\\n    \\t\\t \\t\\t<div class=\"hline\"></div>\\n                        <p><a href=\"/categorias/cursos\"><i class=\"fa fa-angle-right\"></i> cursos</a> <span class=\"badge badge-theme pull-right\">6</span></p>\\n                        <p><a href=\"/categorias/palestras\"><i class=\"fa fa-angle-right\"></i> palestras</a> <span class=\"badge badge-theme pull-right\">5</span></p>\\n                        <p><a href=\"/categorias/tutoriais\"><i class=\"fa fa-angle-right\"></i> tutoriais</a> <span class=\"badge badge-theme pull-right\">12</span></p>\\n                        <p><a href=\"/categorias/utils\"><i class=\"fa fa-angle-right\"></i> utils</a> <span class=\"badge badge-theme pull-right\">4</span></p>\\n\\n    \\t\\t \\t\\t<div class=\"spacing\"></div>\\n\\n    \\t\\t \\t\\t<h4>Artigos Recentes</h4>\\n    \\t\\t \\t\\t<div class=\"hline\"></div>\\n\\t\\t\\t\\t\\t<ul class=\"popular-posts\">\\n\\t\\t                <li>\\n\\t\\t                    <p><a href=\"/python-datasets\">Bibliotecas Python para carregar Dataset\\'s</a></p>\\n\\t\\t                    <em>Publicado em Seg 02 janeiro 2017</em>\\n\\t\\t                </li>\\n\\t\\t                <li>\\n\\t\\t                    <p><a href=\"/como-funciona-o-orm-do-django\">Como funciona o ORM do Django</a></p>\\n\\t\\t                    <em>Publicado em Sex 15 julho 2016</em>\\n\\t\\t                </li>\\n\\t\\t                <li>\\n\\t\\t                    <p><a href=\"/curso-gratuito-de-django-com-python-3\">Curso Gratuito de Django com Python 3</a></p>\\n\\t\\t                    <em>Publicado em Qua 23 março 2016</em>\\n\\t\\t                </li>\\n\\t\\t                <li>\\n\\t\\t                    <p><a href=\"/programacao-felicidade-mercado-e-outras-coisas\">Programação, felicidade, mercado e outras coisas...</a></p>\\n\\t\\t                    <em>Publicado em Ter 10 novembro 2015</em>\\n\\t\\t                </li>\\n\\t\\t            </ul>\\n\\n    \\t\\t \\t\\t<div class=\"spacing\"></div>\\n\\n    \\t\\t \\t\\t<h4>Tags</h4>\\n    \\t\\t \\t\\t<div class=\"hline\"></div>\\n\\t\\t \\t\\t\\t<p>\\n\\t\\t            \\t<a class=\"btn btn-theme\" href=\"/tags/python\" role=\"button\">python</a>\\n\\t\\t            \\t<a class=\"btn btn-theme\" href=\"/tags/dados\" role=\"button\">dados</a>\\n\\t\\t            \\t<a class=\"btn btn-theme\" href=\"/tags/django\" role=\"button\">django</a>\\n\\t\\t            \\t<a class=\"btn btn-theme\" href=\"/tags/database\" role=\"button\">database</a>\\n\\t\\t            \\t<a class=\"btn btn-theme\" href=\"/tags/video-aula\" role=\"button\">video-aula</a>\\n\\t\\t            \\t<a class=\"btn btn-theme\" href=\"/tags/lifestyle\" role=\"button\">lifestyle</a>\\n\\t\\t            \\t<a class=\"btn btn-theme\" href=\"/tags/comunidade\" role=\"button\">comunidade</a>\\n\\t\\t            \\t<a class=\"btn btn-theme\" href=\"/tags/startup\" role=\"button\">startup</a>\\n\\t\\t            \\t<a class=\"btn btn-theme\" href=\"/tags/design\" role=\"button\">design</a>\\n\\t\\t            \\t<a class=\"btn btn-theme\" href=\"/tags/inteligencia-artificial\" role=\"button\">inteligência-artificial</a>\\n\\t\\t            \\t<a class=\"btn btn-theme\" href=\"/tags/universidade\" role=\"button\">universidade</a>\\n\\t\\t            \\t<a class=\"btn btn-theme\" href=\"/tags/pythonbrasil\" role=\"button\">pythonbrasil</a>\\n\\t\\t            \\t<a class=\"btn btn-theme\" href=\"/tags/engenharia-de-avaliacoes\" role=\"button\">engenharia-de-avaliações</a>\\n\\t\\t            \\t<a class=\"btn btn-theme\" href=\"/tags/deploy\" role=\"button\">deploy</a>\\n\\t\\t            \\t<a class=\"btn btn-theme\" href=\"/tags/evento\" role=\"button\">evento</a>\\n\\t\\t \\t\\t\\t</p>\\n                </div>\\n            </div>\\n\\n            <!-- Footer -->\\n<div id=\"footerwrap\">\\n   <div class=\"container\">\\n       <div class=\"row\">\\n           <div class=\"col-md-6\">\\n               <h4>Sobre</h4>\\n               <div class=\"hline-w\"></div>\\n               <p>\\n    Website e Blog de Gileno Filho, escrevo sobre: Desenvolvimento,\\n    Python, Django, Ciência de Dados, Engenharia de Avaliações,\\n    Inteligência Artificial e Design Minimalista.\\n</p>\\n           </div>\\n           <div class=\"col-md-6\">\\n               <h4>Social</h4>\\n               <div class=\"hline-w\"></div>\\n               <p>\\n                   <a class=\"white-text\" href=\"https://github.com/gileno\" title=\"GitHub\">\\n                       <i class=\"fa fa-github\"></i>\\n                   </a>\\n                   <a class=\"white-text\" href=\"https://twitter.com/gilenofilho\" title=\"Twitter\">\\n                       <i class=\"fa fa-twitter\"></i>\\n                   </a>\\n                   <a class=\"white-text\" href=\"https://www.facebook.com/gilenofilho\" title=\"Facebook\">\\n                       <i class=\"fa fa-facebook\"></i>\\n                   </a>\\n                   <a class=\"white-text\" href=\"mailto:contato@gilenofilho.com.br\" title=\"E-mail\">\\n                       <i class=\"fa fa-envelope\"></i>\\n                   </a>\\n               </p>\\n           </div>\\n       </div>\\n   </div>\\n</div>\\n            <!-- Scripts -->\\n            <script   src=\"https://code.jquery.com/jquery-2.2.4.min.js\"   integrity=\"sha256-BbhdlvQf/xTY9gja0Dq3HiwQF8LaCRTXxZKRutelT44=\" crossorigin=\"anonymous\"></script>\\n            <script src=\"/theme/js/bootstrap.min.js\"></script>\\n        </main>\\n    </body>\\n</html>'"
      ]
     },
     "execution_count": 5,
     "metadata": {},
     "output_type": "execute_result"
    }
   ],
   "source": [
    "resposta.text"
   ]
  },
  {
   "cell_type": "code",
   "execution_count": 6,
   "metadata": {},
   "outputs": [],
   "source": [
    "html = resposta.text"
   ]
  },
  {
   "cell_type": "code",
   "execution_count": 7,
   "metadata": {},
   "outputs": [
    {
     "data": {
      "text/plain": [
       "str"
      ]
     },
     "execution_count": 7,
     "metadata": {},
     "output_type": "execute_result"
    }
   ],
   "source": [
    "type(html)"
   ]
  },
  {
   "cell_type": "code",
   "execution_count": 8,
   "metadata": {},
   "outputs": [
    {
     "data": {
      "text/plain": [
       "'<'"
      ]
     },
     "execution_count": 8,
     "metadata": {},
     "output_type": "execute_result"
    }
   ],
   "source": [
    "html[0]"
   ]
  },
  {
   "cell_type": "code",
   "execution_count": 9,
   "metadata": {},
   "outputs": [
    {
     "data": {
      "text/plain": [
       "'<!DOCTYPE '"
      ]
     },
     "execution_count": 9,
     "metadata": {},
     "output_type": "execute_result"
    }
   ],
   "source": [
    "html[:10]"
   ]
  },
  {
   "cell_type": "code",
   "execution_count": 10,
   "metadata": {},
   "outputs": [
    {
     "data": {
      "text/plain": [
       "781"
      ]
     },
     "execution_count": 10,
     "metadata": {},
     "output_type": "execute_result"
    }
   ],
   "source": [
    "html.index(\"<title>\")"
   ]
  },
  {
   "cell_type": "code",
   "execution_count": 11,
   "metadata": {},
   "outputs": [
    {
     "data": {
      "text/plain": [
       "15760"
      ]
     },
     "execution_count": 11,
     "metadata": {},
     "output_type": "execute_result"
    }
   ],
   "source": [
    "len(html)"
   ]
  },
  {
   "cell_type": "code",
   "execution_count": 12,
   "metadata": {},
   "outputs": [],
   "source": [
    "inicio = html.index(\"<title>\")\n",
    "fim = html.index(\"</title>\")"
   ]
  },
  {
   "cell_type": "code",
   "execution_count": 13,
   "metadata": {},
   "outputs": [
    {
     "name": "stdout",
     "output_type": "stream",
     "text": [
      "781\n",
      "800\n"
     ]
    }
   ],
   "source": [
    "print(inicio)\n",
    "print(fim)"
   ]
  },
  {
   "cell_type": "code",
   "execution_count": 14,
   "metadata": {},
   "outputs": [
    {
     "data": {
      "text/plain": [
       "'<title>Gileno Filho'"
      ]
     },
     "execution_count": 14,
     "metadata": {},
     "output_type": "execute_result"
    }
   ],
   "source": [
    "html[inicio:fim]"
   ]
  },
  {
   "cell_type": "code",
   "execution_count": 15,
   "metadata": {},
   "outputs": [],
   "source": [
    "inicio = html.index(\"<title>\") + 7\n",
    "fim = html.index(\"</title>\")"
   ]
  },
  {
   "cell_type": "code",
   "execution_count": 16,
   "metadata": {},
   "outputs": [
    {
     "data": {
      "text/plain": [
       "'Gileno Filho'"
      ]
     },
     "execution_count": 16,
     "metadata": {},
     "output_type": "execute_result"
    }
   ],
   "source": [
    "html[inicio:fim]"
   ]
  },
  {
   "cell_type": "code",
   "execution_count": 20,
   "metadata": {},
   "outputs": [
    {
     "ename": "ValueError",
     "evalue": "substring not found",
     "output_type": "error",
     "traceback": [
      "\u001b[0;31m---------------------------------------------------------------------------\u001b[0m",
      "\u001b[0;31mValueError\u001b[0m                                Traceback (most recent call last)",
      "\u001b[0;32m<ipython-input-20-dbb3cfa2b625>\u001b[0m in \u001b[0;36m<module>\u001b[0;34m\u001b[0m\n\u001b[1;32m      1\u001b[0m \u001b[0mresposta\u001b[0m \u001b[0;34m=\u001b[0m \u001b[0mrequests\u001b[0m\u001b[0;34m.\u001b[0m\u001b[0mget\u001b[0m\u001b[0;34m(\u001b[0m\u001b[0;34m\"https://www.facebook.com\"\u001b[0m\u001b[0;34m)\u001b[0m\u001b[0;34m\u001b[0m\u001b[0;34m\u001b[0m\u001b[0m\n\u001b[1;32m      2\u001b[0m \u001b[0mhtml\u001b[0m \u001b[0;34m=\u001b[0m \u001b[0mresposta\u001b[0m\u001b[0;34m.\u001b[0m\u001b[0mtext\u001b[0m\u001b[0;34m\u001b[0m\u001b[0;34m\u001b[0m\u001b[0m\n\u001b[0;32m----> 3\u001b[0;31m \u001b[0minicio\u001b[0m \u001b[0;34m=\u001b[0m \u001b[0mhtml\u001b[0m\u001b[0;34m.\u001b[0m\u001b[0mindex\u001b[0m\u001b[0;34m(\u001b[0m\u001b[0;34m\"<title>\"\u001b[0m\u001b[0;34m)\u001b[0m \u001b[0;34m+\u001b[0m \u001b[0;36m7\u001b[0m\u001b[0;34m\u001b[0m\u001b[0;34m\u001b[0m\u001b[0m\n\u001b[0m\u001b[1;32m      4\u001b[0m \u001b[0mfim\u001b[0m \u001b[0;34m=\u001b[0m \u001b[0mhtml\u001b[0m\u001b[0;34m.\u001b[0m\u001b[0mindex\u001b[0m\u001b[0;34m(\u001b[0m\u001b[0;34m\"</title>\"\u001b[0m\u001b[0;34m)\u001b[0m\u001b[0;34m\u001b[0m\u001b[0;34m\u001b[0m\u001b[0m\n\u001b[1;32m      5\u001b[0m \u001b[0mprint\u001b[0m\u001b[0;34m(\u001b[0m\u001b[0mhtml\u001b[0m\u001b[0;34m[\u001b[0m\u001b[0minicio\u001b[0m\u001b[0;34m:\u001b[0m\u001b[0mfim\u001b[0m\u001b[0;34m]\u001b[0m\u001b[0;34m)\u001b[0m\u001b[0;34m\u001b[0m\u001b[0;34m\u001b[0m\u001b[0m\n",
      "\u001b[0;31mValueError\u001b[0m: substring not found"
     ]
    }
   ],
   "source": [
    "resposta = requests.get(\"https://www.facebook.com\")\n",
    "html = resposta.text\n",
    "inicio = html.index(\"<title>\") + 7\n",
    "fim = html.index(\"</title>\")\n",
    "print(html[inicio:fim])"
   ]
  },
  {
   "cell_type": "code",
   "execution_count": 21,
   "metadata": {},
   "outputs": [],
   "source": [
    "import re"
   ]
  },
  {
   "cell_type": "code",
   "execution_count": 22,
   "metadata": {},
   "outputs": [],
   "source": [
    "cpf = \"000.000.000-00\""
   ]
  },
  {
   "cell_type": "code",
   "execution_count": 25,
   "metadata": {},
   "outputs": [
    {
     "data": {
      "text/plain": [
       "['000.000.000-00']"
      ]
     },
     "execution_count": 25,
     "metadata": {},
     "output_type": "execute_result"
    }
   ],
   "source": [
    "re.findall(r\"\\d{3}\\.\\d{3}\\.\\d{3}\\-\\d{2}\", cpf)"
   ]
  },
  {
   "cell_type": "code",
   "execution_count": 26,
   "metadata": {},
   "outputs": [
    {
     "data": {
      "text/plain": [
       "['000.000.000-00']"
      ]
     },
     "execution_count": 26,
     "metadata": {},
     "output_type": "execute_result"
    }
   ],
   "source": [
    "re.findall(r\"\\d{3}\\.\\d{3}\\.\\d{3}\\-\\d{2}\", \"meu cpf é 000.000.000-00\")"
   ]
  },
  {
   "cell_type": "code",
   "execution_count": 27,
   "metadata": {},
   "outputs": [
    {
     "data": {
      "text/plain": [
       "[]"
      ]
     },
     "execution_count": 27,
     "metadata": {},
     "output_type": "execute_result"
    }
   ],
   "source": [
    "re.findall(r\"\\d{3}\\.\\d{3}\\.\\d{3}\\-\\d{2}\", \"meu cpf é 00000000000\")"
   ]
  },
  {
   "cell_type": "code",
   "execution_count": 28,
   "metadata": {},
   "outputs": [
    {
     "data": {
      "text/plain": [
       "['Facebook – entre ou cadastre-se']"
      ]
     },
     "execution_count": 28,
     "metadata": {},
     "output_type": "execute_result"
    }
   ],
   "source": [
    "re.findall(r\"<title.*>(.*)</title>\", html)"
   ]
  },
  {
   "cell_type": "code",
   "execution_count": 29,
   "metadata": {},
   "outputs": [],
   "source": [
    "arquivo = open(\"sites.txt\", \"r\")\n",
    "conteudo = arquivo.read()"
   ]
  },
  {
   "cell_type": "code",
   "execution_count": 33,
   "metadata": {},
   "outputs": [
    {
     "data": {
      "text/plain": [
       "'https://www.facebook.com\\nhttps://www.google.com\\nhttps://www.pycursos.com\\n'"
      ]
     },
     "execution_count": 33,
     "metadata": {},
     "output_type": "execute_result"
    }
   ],
   "source": [
    "conteudo"
   ]
  },
  {
   "cell_type": "code",
   "execution_count": 32,
   "metadata": {},
   "outputs": [
    {
     "data": {
      "text/plain": [
       "str"
      ]
     },
     "execution_count": 32,
     "metadata": {},
     "output_type": "execute_result"
    }
   ],
   "source": [
    "type(conteudo)"
   ]
  },
  {
   "cell_type": "code",
   "execution_count": 34,
   "metadata": {},
   "outputs": [],
   "source": [
    "sites = conteudo.split(\"\\n\")"
   ]
  },
  {
   "cell_type": "code",
   "execution_count": 35,
   "metadata": {},
   "outputs": [
    {
     "name": "stdout",
     "output_type": "stream",
     "text": [
      "['https://www.facebook.com', 'https://www.google.com', 'https://www.pycursos.com', '']\n"
     ]
    }
   ],
   "source": [
    "print(sites)"
   ]
  },
  {
   "cell_type": "code",
   "execution_count": 36,
   "metadata": {},
   "outputs": [
    {
     "name": "stdout",
     "output_type": "stream",
     "text": [
      "['Facebook – entre ou cadastre-se']\n",
      "['Google']\n",
      "['PyCursos']\n"
     ]
    },
    {
     "ename": "MissingSchema",
     "evalue": "Invalid URL '': No schema supplied. Perhaps you meant http://?",
     "output_type": "error",
     "traceback": [
      "\u001b[0;31m---------------------------------------------------------------------------\u001b[0m",
      "\u001b[0;31mMissingSchema\u001b[0m                             Traceback (most recent call last)",
      "\u001b[0;32m<ipython-input-36-01a570ee576d>\u001b[0m in \u001b[0;36m<module>\u001b[0;34m\u001b[0m\n\u001b[1;32m      1\u001b[0m \u001b[0;32mfor\u001b[0m \u001b[0msite\u001b[0m \u001b[0;32min\u001b[0m \u001b[0msites\u001b[0m\u001b[0;34m:\u001b[0m\u001b[0;34m\u001b[0m\u001b[0;34m\u001b[0m\u001b[0m\n\u001b[0;32m----> 2\u001b[0;31m     \u001b[0mresposta\u001b[0m \u001b[0;34m=\u001b[0m \u001b[0mrequests\u001b[0m\u001b[0;34m.\u001b[0m\u001b[0mget\u001b[0m\u001b[0;34m(\u001b[0m\u001b[0msite\u001b[0m\u001b[0;34m)\u001b[0m\u001b[0;34m\u001b[0m\u001b[0;34m\u001b[0m\u001b[0m\n\u001b[0m\u001b[1;32m      3\u001b[0m     \u001b[0mhtml\u001b[0m \u001b[0;34m=\u001b[0m \u001b[0mresposta\u001b[0m\u001b[0;34m.\u001b[0m\u001b[0mtext\u001b[0m\u001b[0;34m\u001b[0m\u001b[0;34m\u001b[0m\u001b[0m\n\u001b[1;32m      4\u001b[0m     \u001b[0mtitulo\u001b[0m \u001b[0;34m=\u001b[0m \u001b[0mre\u001b[0m\u001b[0;34m.\u001b[0m\u001b[0mfindall\u001b[0m\u001b[0;34m(\u001b[0m\u001b[0;34mr\"<title.*>(.*)</title>\"\u001b[0m\u001b[0;34m,\u001b[0m \u001b[0mhtml\u001b[0m\u001b[0;34m)\u001b[0m\u001b[0;34m\u001b[0m\u001b[0;34m\u001b[0m\u001b[0m\n\u001b[1;32m      5\u001b[0m     \u001b[0mprint\u001b[0m\u001b[0;34m(\u001b[0m\u001b[0mtitulo\u001b[0m\u001b[0;34m)\u001b[0m\u001b[0;34m\u001b[0m\u001b[0;34m\u001b[0m\u001b[0m\n",
      "\u001b[0;32m~/workspace/cursos/curso-ensinar/venv/lib/python3.6/site-packages/requests/api.py\u001b[0m in \u001b[0;36mget\u001b[0;34m(url, params, **kwargs)\u001b[0m\n\u001b[1;32m     73\u001b[0m \u001b[0;34m\u001b[0m\u001b[0m\n\u001b[1;32m     74\u001b[0m     \u001b[0mkwargs\u001b[0m\u001b[0;34m.\u001b[0m\u001b[0msetdefault\u001b[0m\u001b[0;34m(\u001b[0m\u001b[0;34m'allow_redirects'\u001b[0m\u001b[0;34m,\u001b[0m \u001b[0;32mTrue\u001b[0m\u001b[0;34m)\u001b[0m\u001b[0;34m\u001b[0m\u001b[0;34m\u001b[0m\u001b[0m\n\u001b[0;32m---> 75\u001b[0;31m     \u001b[0;32mreturn\u001b[0m \u001b[0mrequest\u001b[0m\u001b[0;34m(\u001b[0m\u001b[0;34m'get'\u001b[0m\u001b[0;34m,\u001b[0m \u001b[0murl\u001b[0m\u001b[0;34m,\u001b[0m \u001b[0mparams\u001b[0m\u001b[0;34m=\u001b[0m\u001b[0mparams\u001b[0m\u001b[0;34m,\u001b[0m \u001b[0;34m**\u001b[0m\u001b[0mkwargs\u001b[0m\u001b[0;34m)\u001b[0m\u001b[0;34m\u001b[0m\u001b[0;34m\u001b[0m\u001b[0m\n\u001b[0m\u001b[1;32m     76\u001b[0m \u001b[0;34m\u001b[0m\u001b[0m\n\u001b[1;32m     77\u001b[0m \u001b[0;34m\u001b[0m\u001b[0m\n",
      "\u001b[0;32m~/workspace/cursos/curso-ensinar/venv/lib/python3.6/site-packages/requests/api.py\u001b[0m in \u001b[0;36mrequest\u001b[0;34m(method, url, **kwargs)\u001b[0m\n\u001b[1;32m     58\u001b[0m     \u001b[0;31m# cases, and look like a memory leak in others.\u001b[0m\u001b[0;34m\u001b[0m\u001b[0;34m\u001b[0m\u001b[0;34m\u001b[0m\u001b[0m\n\u001b[1;32m     59\u001b[0m     \u001b[0;32mwith\u001b[0m \u001b[0msessions\u001b[0m\u001b[0;34m.\u001b[0m\u001b[0mSession\u001b[0m\u001b[0;34m(\u001b[0m\u001b[0;34m)\u001b[0m \u001b[0;32mas\u001b[0m \u001b[0msession\u001b[0m\u001b[0;34m:\u001b[0m\u001b[0;34m\u001b[0m\u001b[0;34m\u001b[0m\u001b[0m\n\u001b[0;32m---> 60\u001b[0;31m         \u001b[0;32mreturn\u001b[0m \u001b[0msession\u001b[0m\u001b[0;34m.\u001b[0m\u001b[0mrequest\u001b[0m\u001b[0;34m(\u001b[0m\u001b[0mmethod\u001b[0m\u001b[0;34m=\u001b[0m\u001b[0mmethod\u001b[0m\u001b[0;34m,\u001b[0m \u001b[0murl\u001b[0m\u001b[0;34m=\u001b[0m\u001b[0murl\u001b[0m\u001b[0;34m,\u001b[0m \u001b[0;34m**\u001b[0m\u001b[0mkwargs\u001b[0m\u001b[0;34m)\u001b[0m\u001b[0;34m\u001b[0m\u001b[0;34m\u001b[0m\u001b[0m\n\u001b[0m\u001b[1;32m     61\u001b[0m \u001b[0;34m\u001b[0m\u001b[0m\n\u001b[1;32m     62\u001b[0m \u001b[0;34m\u001b[0m\u001b[0m\n",
      "\u001b[0;32m~/workspace/cursos/curso-ensinar/venv/lib/python3.6/site-packages/requests/sessions.py\u001b[0m in \u001b[0;36mrequest\u001b[0;34m(self, method, url, params, data, headers, cookies, files, auth, timeout, allow_redirects, proxies, hooks, stream, verify, cert, json)\u001b[0m\n\u001b[1;32m    517\u001b[0m             \u001b[0mhooks\u001b[0m\u001b[0;34m=\u001b[0m\u001b[0mhooks\u001b[0m\u001b[0;34m,\u001b[0m\u001b[0;34m\u001b[0m\u001b[0;34m\u001b[0m\u001b[0m\n\u001b[1;32m    518\u001b[0m         )\n\u001b[0;32m--> 519\u001b[0;31m         \u001b[0mprep\u001b[0m \u001b[0;34m=\u001b[0m \u001b[0mself\u001b[0m\u001b[0;34m.\u001b[0m\u001b[0mprepare_request\u001b[0m\u001b[0;34m(\u001b[0m\u001b[0mreq\u001b[0m\u001b[0;34m)\u001b[0m\u001b[0;34m\u001b[0m\u001b[0;34m\u001b[0m\u001b[0m\n\u001b[0m\u001b[1;32m    520\u001b[0m \u001b[0;34m\u001b[0m\u001b[0m\n\u001b[1;32m    521\u001b[0m         \u001b[0mproxies\u001b[0m \u001b[0;34m=\u001b[0m \u001b[0mproxies\u001b[0m \u001b[0;32mor\u001b[0m \u001b[0;34m{\u001b[0m\u001b[0;34m}\u001b[0m\u001b[0;34m\u001b[0m\u001b[0;34m\u001b[0m\u001b[0m\n",
      "\u001b[0;32m~/workspace/cursos/curso-ensinar/venv/lib/python3.6/site-packages/requests/sessions.py\u001b[0m in \u001b[0;36mprepare_request\u001b[0;34m(self, request)\u001b[0m\n\u001b[1;32m    460\u001b[0m             \u001b[0mauth\u001b[0m\u001b[0;34m=\u001b[0m\u001b[0mmerge_setting\u001b[0m\u001b[0;34m(\u001b[0m\u001b[0mauth\u001b[0m\u001b[0;34m,\u001b[0m \u001b[0mself\u001b[0m\u001b[0;34m.\u001b[0m\u001b[0mauth\u001b[0m\u001b[0;34m)\u001b[0m\u001b[0;34m,\u001b[0m\u001b[0;34m\u001b[0m\u001b[0;34m\u001b[0m\u001b[0m\n\u001b[1;32m    461\u001b[0m             \u001b[0mcookies\u001b[0m\u001b[0;34m=\u001b[0m\u001b[0mmerged_cookies\u001b[0m\u001b[0;34m,\u001b[0m\u001b[0;34m\u001b[0m\u001b[0;34m\u001b[0m\u001b[0m\n\u001b[0;32m--> 462\u001b[0;31m             \u001b[0mhooks\u001b[0m\u001b[0;34m=\u001b[0m\u001b[0mmerge_hooks\u001b[0m\u001b[0;34m(\u001b[0m\u001b[0mrequest\u001b[0m\u001b[0;34m.\u001b[0m\u001b[0mhooks\u001b[0m\u001b[0;34m,\u001b[0m \u001b[0mself\u001b[0m\u001b[0;34m.\u001b[0m\u001b[0mhooks\u001b[0m\u001b[0;34m)\u001b[0m\u001b[0;34m,\u001b[0m\u001b[0;34m\u001b[0m\u001b[0;34m\u001b[0m\u001b[0m\n\u001b[0m\u001b[1;32m    463\u001b[0m         )\n\u001b[1;32m    464\u001b[0m         \u001b[0;32mreturn\u001b[0m \u001b[0mp\u001b[0m\u001b[0;34m\u001b[0m\u001b[0;34m\u001b[0m\u001b[0m\n",
      "\u001b[0;32m~/workspace/cursos/curso-ensinar/venv/lib/python3.6/site-packages/requests/models.py\u001b[0m in \u001b[0;36mprepare\u001b[0;34m(self, method, url, headers, files, data, params, auth, cookies, hooks, json)\u001b[0m\n\u001b[1;32m    311\u001b[0m \u001b[0;34m\u001b[0m\u001b[0m\n\u001b[1;32m    312\u001b[0m         \u001b[0mself\u001b[0m\u001b[0;34m.\u001b[0m\u001b[0mprepare_method\u001b[0m\u001b[0;34m(\u001b[0m\u001b[0mmethod\u001b[0m\u001b[0;34m)\u001b[0m\u001b[0;34m\u001b[0m\u001b[0;34m\u001b[0m\u001b[0m\n\u001b[0;32m--> 313\u001b[0;31m         \u001b[0mself\u001b[0m\u001b[0;34m.\u001b[0m\u001b[0mprepare_url\u001b[0m\u001b[0;34m(\u001b[0m\u001b[0murl\u001b[0m\u001b[0;34m,\u001b[0m \u001b[0mparams\u001b[0m\u001b[0;34m)\u001b[0m\u001b[0;34m\u001b[0m\u001b[0;34m\u001b[0m\u001b[0m\n\u001b[0m\u001b[1;32m    314\u001b[0m         \u001b[0mself\u001b[0m\u001b[0;34m.\u001b[0m\u001b[0mprepare_headers\u001b[0m\u001b[0;34m(\u001b[0m\u001b[0mheaders\u001b[0m\u001b[0;34m)\u001b[0m\u001b[0;34m\u001b[0m\u001b[0;34m\u001b[0m\u001b[0m\n\u001b[1;32m    315\u001b[0m         \u001b[0mself\u001b[0m\u001b[0;34m.\u001b[0m\u001b[0mprepare_cookies\u001b[0m\u001b[0;34m(\u001b[0m\u001b[0mcookies\u001b[0m\u001b[0;34m)\u001b[0m\u001b[0;34m\u001b[0m\u001b[0;34m\u001b[0m\u001b[0m\n",
      "\u001b[0;32m~/workspace/cursos/curso-ensinar/venv/lib/python3.6/site-packages/requests/models.py\u001b[0m in \u001b[0;36mprepare_url\u001b[0;34m(self, url, params)\u001b[0m\n\u001b[1;32m    385\u001b[0m             \u001b[0merror\u001b[0m \u001b[0;34m=\u001b[0m \u001b[0merror\u001b[0m\u001b[0;34m.\u001b[0m\u001b[0mformat\u001b[0m\u001b[0;34m(\u001b[0m\u001b[0mto_native_string\u001b[0m\u001b[0;34m(\u001b[0m\u001b[0murl\u001b[0m\u001b[0;34m,\u001b[0m \u001b[0;34m'utf8'\u001b[0m\u001b[0;34m)\u001b[0m\u001b[0;34m)\u001b[0m\u001b[0;34m\u001b[0m\u001b[0;34m\u001b[0m\u001b[0m\n\u001b[1;32m    386\u001b[0m \u001b[0;34m\u001b[0m\u001b[0m\n\u001b[0;32m--> 387\u001b[0;31m             \u001b[0;32mraise\u001b[0m \u001b[0mMissingSchema\u001b[0m\u001b[0;34m(\u001b[0m\u001b[0merror\u001b[0m\u001b[0;34m)\u001b[0m\u001b[0;34m\u001b[0m\u001b[0;34m\u001b[0m\u001b[0m\n\u001b[0m\u001b[1;32m    388\u001b[0m \u001b[0;34m\u001b[0m\u001b[0m\n\u001b[1;32m    389\u001b[0m         \u001b[0;32mif\u001b[0m \u001b[0;32mnot\u001b[0m \u001b[0mhost\u001b[0m\u001b[0;34m:\u001b[0m\u001b[0;34m\u001b[0m\u001b[0;34m\u001b[0m\u001b[0m\n",
      "\u001b[0;31mMissingSchema\u001b[0m: Invalid URL '': No schema supplied. Perhaps you meant http://?"
     ]
    }
   ],
   "source": [
    "for site in sites:\n",
    "    resposta = requests.get(site)\n",
    "    html = resposta.text\n",
    "    titulo = re.findall(r\"<title.*>(.*)</title>\", html)\n",
    "    print(titulo)"
   ]
  },
  {
   "cell_type": "code",
   "execution_count": 37,
   "metadata": {},
   "outputs": [
    {
     "name": "stdout",
     "output_type": "stream",
     "text": [
      "['Facebook – entre ou cadastre-se']\n",
      "['Google']\n",
      "['PyCursos']\n"
     ]
    }
   ],
   "source": [
    "for site in sites:\n",
    "    if site:\n",
    "        resposta = requests.get(site)\n",
    "        html = resposta.text\n",
    "        titulo = re.findall(r\"<title.*>(.*)</title>\", html)\n",
    "        print(titulo)"
   ]
  },
  {
   "cell_type": "code",
   "execution_count": null,
   "metadata": {},
   "outputs": [],
   "source": []
  }
 ],
 "metadata": {
  "kernelspec": {
   "display_name": "Python 3",
   "language": "python",
   "name": "python3"
  },
  "language_info": {
   "codemirror_mode": {
    "name": "ipython",
    "version": 3
   },
   "file_extension": ".py",
   "mimetype": "text/x-python",
   "name": "python",
   "nbconvert_exporter": "python",
   "pygments_lexer": "ipython3",
   "version": "3.6.8"
  }
 },
 "nbformat": 4,
 "nbformat_minor": 4
}
