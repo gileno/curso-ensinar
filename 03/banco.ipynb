{
 "cells": [
  {
   "cell_type": "code",
   "execution_count": 1,
   "metadata": {},
   "outputs": [],
   "source": [
    "import random"
   ]
  },
  {
   "cell_type": "code",
   "execution_count": 3,
   "metadata": {},
   "outputs": [],
   "source": [
    "class Conta:\n",
    "    def __init__(self, nome, saldo):\n",
    "        self.nome = nome\n",
    "        self.numero = random.randint(1, 100)\n",
    "        self.saldo = saldo"
   ]
  },
  {
   "cell_type": "code",
   "execution_count": 4,
   "metadata": {},
   "outputs": [
    {
     "ename": "TypeError",
     "evalue": "__init__() missing 2 required positional arguments: 'nome' and 'saldo'",
     "output_type": "error",
     "traceback": [
      "\u001b[0;31m---------------------------------------------------------------------------\u001b[0m",
      "\u001b[0;31mTypeError\u001b[0m                                 Traceback (most recent call last)",
      "\u001b[0;32m<ipython-input-4-281f6fac63a6>\u001b[0m in \u001b[0;36m<module>\u001b[0;34m\u001b[0m\n\u001b[0;32m----> 1\u001b[0;31m \u001b[0mc1\u001b[0m \u001b[0;34m=\u001b[0m \u001b[0mConta\u001b[0m\u001b[0;34m(\u001b[0m\u001b[0;34m)\u001b[0m\u001b[0;34m\u001b[0m\u001b[0;34m\u001b[0m\u001b[0m\n\u001b[0m",
      "\u001b[0;31mTypeError\u001b[0m: __init__() missing 2 required positional arguments: 'nome' and 'saldo'"
     ]
    }
   ],
   "source": [
    "c1 = Conta()"
   ]
  },
  {
   "cell_type": "code",
   "execution_count": 5,
   "metadata": {},
   "outputs": [],
   "source": [
    "c1 = Conta(\"joao\", 100)"
   ]
  },
  {
   "cell_type": "code",
   "execution_count": 6,
   "metadata": {},
   "outputs": [
    {
     "data": {
      "text/plain": [
       "'joao'"
      ]
     },
     "execution_count": 6,
     "metadata": {},
     "output_type": "execute_result"
    }
   ],
   "source": [
    "c1.nome"
   ]
  },
  {
   "cell_type": "code",
   "execution_count": 8,
   "metadata": {},
   "outputs": [
    {
     "data": {
      "text/plain": [
       "100"
      ]
     },
     "execution_count": 8,
     "metadata": {},
     "output_type": "execute_result"
    }
   ],
   "source": [
    "c1.saldo"
   ]
  },
  {
   "cell_type": "code",
   "execution_count": 9,
   "metadata": {},
   "outputs": [
    {
     "name": "stdout",
     "output_type": "stream",
     "text": [
      "0\n"
     ]
    }
   ],
   "source": [
    "class Conta:\n",
    "    def __init__(self, nome, saldo=0):\n",
    "        self.nome = nome\n",
    "        self.numero = random.randint(1, 100)\n",
    "        self.saldo = saldo\n",
    "c1 = Conta(\"maria\")\n",
    "print(c1.saldo)"
   ]
  },
  {
   "cell_type": "code",
   "execution_count": 10,
   "metadata": {},
   "outputs": [],
   "source": [
    "class Conta:\n",
    "    def __init__(self, nome, saldo=0):\n",
    "        self.nome = nome\n",
    "        self.numero = random.randint(1, 100)\n",
    "        self.saldo = saldo\n",
    "    def sacar(self, valor):\n",
    "        self.saldo = self.saldo - valor\n",
    "    def depositar(self, valor):\n",
    "        self.saldo = self.saldo + valor\n",
    "    def transferir(self, valor, outra_conta):\n",
    "        self.sacar(valor)\n",
    "        outra_conta.depositar(valor)"
   ]
  },
  {
   "cell_type": "code",
   "execution_count": 11,
   "metadata": {},
   "outputs": [],
   "source": [
    "c1 = Conta(\"maria\", 100)\n",
    "c2 = Conta(\"joão\", 0)"
   ]
  },
  {
   "cell_type": "code",
   "execution_count": 12,
   "metadata": {},
   "outputs": [],
   "source": [
    "c1.transferir(50, c2)"
   ]
  },
  {
   "cell_type": "code",
   "execution_count": 13,
   "metadata": {},
   "outputs": [
    {
     "name": "stdout",
     "output_type": "stream",
     "text": [
      "50\n",
      "50\n"
     ]
    }
   ],
   "source": [
    "print(c1.saldo)\n",
    "print(c2.saldo)"
   ]
  },
  {
   "cell_type": "code",
   "execution_count": 14,
   "metadata": {},
   "outputs": [],
   "source": [
    "c2.sacar(200)"
   ]
  },
  {
   "cell_type": "code",
   "execution_count": 15,
   "metadata": {},
   "outputs": [
    {
     "name": "stdout",
     "output_type": "stream",
     "text": [
      "-150\n"
     ]
    }
   ],
   "source": [
    "print(c2.saldo)"
   ]
  },
  {
   "cell_type": "code",
   "execution_count": 16,
   "metadata": {},
   "outputs": [],
   "source": [
    "class Conta:\n",
    "    def __init__(self, nome, saldo=0):\n",
    "        self.nome = nome\n",
    "        self.numero = random.randint(1, 100)\n",
    "        self.saldo = saldo\n",
    "    def sacar(self, valor):\n",
    "        if self.saldo >= valor:\n",
    "            self.saldo = self.saldo - valor\n",
    "        else:\n",
    "            print(\"Saldo insuficiente!\")\n",
    "    def depositar(self, valor):\n",
    "        self.saldo = self.saldo + valor\n",
    "    def transferir(self, valor, outra_conta):\n",
    "        self.sacar(valor)\n",
    "        outra_conta.depositar(valor)"
   ]
  },
  {
   "cell_type": "code",
   "execution_count": 17,
   "metadata": {},
   "outputs": [
    {
     "name": "stdout",
     "output_type": "stream",
     "text": [
      "Saldo insuficiente!\n"
     ]
    }
   ],
   "source": [
    "c1 = Conta(\"maria\", 100)\n",
    "c1.sacar(200)"
   ]
  },
  {
   "cell_type": "code",
   "execution_count": 18,
   "metadata": {},
   "outputs": [
    {
     "name": "stdout",
     "output_type": "stream",
     "text": [
      "100\n"
     ]
    }
   ],
   "source": [
    "print(c1.saldo)"
   ]
  },
  {
   "cell_type": "code",
   "execution_count": 19,
   "metadata": {},
   "outputs": [
    {
     "name": "stdout",
     "output_type": "stream",
     "text": [
      "Saldo insuficiente!\n",
      "100\n",
      "250\n"
     ]
    }
   ],
   "source": [
    "c2 = Conta(\"joão\", 50)\n",
    "c1.transferir(200, c2)\n",
    "print(c1.saldo)\n",
    "print(c2.saldo)"
   ]
  },
  {
   "cell_type": "code",
   "execution_count": 20,
   "metadata": {},
   "outputs": [],
   "source": [
    "class Conta:\n",
    "    def __init__(self, nome, saldo=0):\n",
    "        self.nome = nome\n",
    "        self.numero = random.randint(1, 100)\n",
    "        self.saldo = saldo\n",
    "    def sacar(self, valor):\n",
    "        if self.saldo >= valor:\n",
    "            self.saldo = self.saldo - valor\n",
    "        else:\n",
    "            raise Exception(\"Saldo insuficiente!\")\n",
    "    def depositar(self, valor):\n",
    "        self.saldo = self.saldo + valor\n",
    "    def transferir(self, valor, outra_conta):\n",
    "        self.sacar(valor)\n",
    "        outra_conta.depositar(valor)"
   ]
  },
  {
   "cell_type": "code",
   "execution_count": 21,
   "metadata": {},
   "outputs": [
    {
     "ename": "Exception",
     "evalue": "Saldo insuficiente!",
     "output_type": "error",
     "traceback": [
      "\u001b[0;31m---------------------------------------------------------------------------\u001b[0m",
      "\u001b[0;31mException\u001b[0m                                 Traceback (most recent call last)",
      "\u001b[0;32m<ipython-input-21-f64ea9e50bf9>\u001b[0m in \u001b[0;36m<module>\u001b[0;34m\u001b[0m\n\u001b[1;32m      1\u001b[0m \u001b[0mc1\u001b[0m \u001b[0;34m=\u001b[0m \u001b[0mConta\u001b[0m\u001b[0;34m(\u001b[0m\u001b[0;34m'joão'\u001b[0m\u001b[0;34m,\u001b[0m \u001b[0;36m100\u001b[0m\u001b[0;34m)\u001b[0m\u001b[0;34m\u001b[0m\u001b[0;34m\u001b[0m\u001b[0m\n\u001b[1;32m      2\u001b[0m \u001b[0mc2\u001b[0m \u001b[0;34m=\u001b[0m \u001b[0mConta\u001b[0m\u001b[0;34m(\u001b[0m\u001b[0;34m'maria'\u001b[0m\u001b[0;34m,\u001b[0m \u001b[0;36m50\u001b[0m\u001b[0;34m)\u001b[0m\u001b[0;34m\u001b[0m\u001b[0;34m\u001b[0m\u001b[0m\n\u001b[0;32m----> 3\u001b[0;31m \u001b[0mc1\u001b[0m\u001b[0;34m.\u001b[0m\u001b[0mtransferir\u001b[0m\u001b[0;34m(\u001b[0m\u001b[0;36m200\u001b[0m\u001b[0;34m,\u001b[0m \u001b[0mc2\u001b[0m\u001b[0;34m)\u001b[0m\u001b[0;34m\u001b[0m\u001b[0;34m\u001b[0m\u001b[0m\n\u001b[0m\u001b[1;32m      4\u001b[0m \u001b[0mprint\u001b[0m\u001b[0;34m(\u001b[0m\u001b[0mc1\u001b[0m\u001b[0;34m.\u001b[0m\u001b[0msaldo\u001b[0m\u001b[0;34m)\u001b[0m\u001b[0;34m\u001b[0m\u001b[0;34m\u001b[0m\u001b[0m\n\u001b[1;32m      5\u001b[0m \u001b[0mprint\u001b[0m\u001b[0;34m(\u001b[0m\u001b[0mc2\u001b[0m\u001b[0;34m.\u001b[0m\u001b[0msaldo\u001b[0m\u001b[0;34m)\u001b[0m\u001b[0;34m\u001b[0m\u001b[0;34m\u001b[0m\u001b[0m\n",
      "\u001b[0;32m<ipython-input-20-421ebab650a3>\u001b[0m in \u001b[0;36mtransferir\u001b[0;34m(self, valor, outra_conta)\u001b[0m\n\u001b[1;32m     12\u001b[0m         \u001b[0mself\u001b[0m\u001b[0;34m.\u001b[0m\u001b[0msaldo\u001b[0m \u001b[0;34m=\u001b[0m \u001b[0mself\u001b[0m\u001b[0;34m.\u001b[0m\u001b[0msaldo\u001b[0m \u001b[0;34m+\u001b[0m \u001b[0mvalor\u001b[0m\u001b[0;34m\u001b[0m\u001b[0;34m\u001b[0m\u001b[0m\n\u001b[1;32m     13\u001b[0m     \u001b[0;32mdef\u001b[0m \u001b[0mtransferir\u001b[0m\u001b[0;34m(\u001b[0m\u001b[0mself\u001b[0m\u001b[0;34m,\u001b[0m \u001b[0mvalor\u001b[0m\u001b[0;34m,\u001b[0m \u001b[0moutra_conta\u001b[0m\u001b[0;34m)\u001b[0m\u001b[0;34m:\u001b[0m\u001b[0;34m\u001b[0m\u001b[0;34m\u001b[0m\u001b[0m\n\u001b[0;32m---> 14\u001b[0;31m         \u001b[0mself\u001b[0m\u001b[0;34m.\u001b[0m\u001b[0msacar\u001b[0m\u001b[0;34m(\u001b[0m\u001b[0mvalor\u001b[0m\u001b[0;34m)\u001b[0m\u001b[0;34m\u001b[0m\u001b[0;34m\u001b[0m\u001b[0m\n\u001b[0m\u001b[1;32m     15\u001b[0m         \u001b[0moutra_conta\u001b[0m\u001b[0;34m.\u001b[0m\u001b[0mdepositar\u001b[0m\u001b[0;34m(\u001b[0m\u001b[0mvalor\u001b[0m\u001b[0;34m)\u001b[0m\u001b[0;34m\u001b[0m\u001b[0;34m\u001b[0m\u001b[0m\n",
      "\u001b[0;32m<ipython-input-20-421ebab650a3>\u001b[0m in \u001b[0;36msacar\u001b[0;34m(self, valor)\u001b[0m\n\u001b[1;32m      8\u001b[0m             \u001b[0mself\u001b[0m\u001b[0;34m.\u001b[0m\u001b[0msaldo\u001b[0m \u001b[0;34m=\u001b[0m \u001b[0mself\u001b[0m\u001b[0;34m.\u001b[0m\u001b[0msaldo\u001b[0m \u001b[0;34m-\u001b[0m \u001b[0mvalor\u001b[0m\u001b[0;34m\u001b[0m\u001b[0;34m\u001b[0m\u001b[0m\n\u001b[1;32m      9\u001b[0m         \u001b[0;32melse\u001b[0m\u001b[0;34m:\u001b[0m\u001b[0;34m\u001b[0m\u001b[0;34m\u001b[0m\u001b[0m\n\u001b[0;32m---> 10\u001b[0;31m             \u001b[0;32mraise\u001b[0m \u001b[0mException\u001b[0m\u001b[0;34m(\u001b[0m\u001b[0;34m\"Saldo insuficiente!\"\u001b[0m\u001b[0;34m)\u001b[0m\u001b[0;34m\u001b[0m\u001b[0;34m\u001b[0m\u001b[0m\n\u001b[0m\u001b[1;32m     11\u001b[0m     \u001b[0;32mdef\u001b[0m \u001b[0mdepositar\u001b[0m\u001b[0;34m(\u001b[0m\u001b[0mself\u001b[0m\u001b[0;34m,\u001b[0m \u001b[0mvalor\u001b[0m\u001b[0;34m)\u001b[0m\u001b[0;34m:\u001b[0m\u001b[0;34m\u001b[0m\u001b[0;34m\u001b[0m\u001b[0m\n\u001b[1;32m     12\u001b[0m         \u001b[0mself\u001b[0m\u001b[0;34m.\u001b[0m\u001b[0msaldo\u001b[0m \u001b[0;34m=\u001b[0m \u001b[0mself\u001b[0m\u001b[0;34m.\u001b[0m\u001b[0msaldo\u001b[0m \u001b[0;34m+\u001b[0m \u001b[0mvalor\u001b[0m\u001b[0;34m\u001b[0m\u001b[0;34m\u001b[0m\u001b[0m\n",
      "\u001b[0;31mException\u001b[0m: Saldo insuficiente!"
     ]
    }
   ],
   "source": [
    "c1 = Conta('joão', 100)\n",
    "c2 = Conta('maria', 50)\n",
    "c1.transferir(200, c2)\n",
    "print(c1.saldo)\n",
    "print(c2.saldo)"
   ]
  },
  {
   "cell_type": "code",
   "execution_count": 22,
   "metadata": {},
   "outputs": [
    {
     "name": "stdout",
     "output_type": "stream",
     "text": [
      "Digite o valor: 10\n"
     ]
    }
   ],
   "source": [
    "c1 = Conta('joão', 100)\n",
    "c2 = Conta('maria', 50)\n",
    "try:\n",
    "    valor = int(input(\"Digite o valor: \"))\n",
    "    c1.transferir(valor, c2)\n",
    "except:\n",
    "    print(\"Deu ruim!\")"
   ]
  },
  {
   "cell_type": "code",
   "execution_count": 23,
   "metadata": {},
   "outputs": [
    {
     "data": {
      "text/plain": [
       "60"
      ]
     },
     "execution_count": 23,
     "metadata": {},
     "output_type": "execute_result"
    }
   ],
   "source": [
    "c2.saldo"
   ]
  },
  {
   "cell_type": "code",
   "execution_count": 29,
   "metadata": {},
   "outputs": [
    {
     "name": "stdout",
     "output_type": "stream",
     "text": [
      "Digite o valor: a\n",
      "Valor inválido!\n"
     ]
    }
   ],
   "source": [
    "c1 = Conta('joão', 100)\n",
    "c2 = Conta('maria', 50)\n",
    "try:\n",
    "    valor = int(input(\"Digite o valor: \"))\n",
    "    c1.transferir(valor, c2)\n",
    "except ValueError as ex1:\n",
    "    print(\"Valor inválido!\")\n",
    "except Exception as ex2:\n",
    "    print(ex2)"
   ]
  },
  {
   "cell_type": "code",
   "execution_count": 28,
   "metadata": {},
   "outputs": [
    {
     "name": "stdout",
     "output_type": "stream",
     "text": [
      "Digite o valor: 500\n",
      "Saldo insuficiente!\n"
     ]
    }
   ],
   "source": [
    "c1 = Conta('joão', 100)\n",
    "c2 = Conta('maria', 50)\n",
    "try:\n",
    "    valor = int(input(\"Digite o valor: \"))\n",
    "    c1.transferir(valor, c2)\n",
    "except ValueError as ex1:\n",
    "    print(\"Valor inválido!\")\n",
    "except Exception as ex2:\n",
    "    print(ex2)"
   ]
  },
  {
   "cell_type": "code",
   "execution_count": 30,
   "metadata": {},
   "outputs": [
    {
     "name": "stdout",
     "output_type": "stream",
     "text": [
      "<__main__.Conta object at 0x7f1deb9c97b8>\n"
     ]
    }
   ],
   "source": [
    "print(c1)"
   ]
  },
  {
   "cell_type": "code",
   "execution_count": 31,
   "metadata": {},
   "outputs": [
    {
     "data": {
      "text/plain": [
       "139766483687352"
      ]
     },
     "execution_count": 31,
     "metadata": {},
     "output_type": "execute_result"
    }
   ],
   "source": [
    "id(c1)"
   ]
  },
  {
   "cell_type": "code",
   "execution_count": 32,
   "metadata": {},
   "outputs": [
    {
     "data": {
      "text/plain": [
       "'<__main__.Conta object at 0x7f1deb9c97b8>'"
      ]
     },
     "execution_count": 32,
     "metadata": {},
     "output_type": "execute_result"
    }
   ],
   "source": [
    "str(c1)"
   ]
  },
  {
   "cell_type": "code",
   "execution_count": 33,
   "metadata": {},
   "outputs": [],
   "source": [
    "class Conta:\n",
    "    def __init__(self, nome, saldo=0):\n",
    "        self.nome = nome\n",
    "        self.numero = random.randint(1, 100)\n",
    "        self.saldo = saldo\n",
    "    def sacar(self, valor):\n",
    "        if self.saldo >= valor:\n",
    "            self.saldo = self.saldo - valor\n",
    "        else:\n",
    "            raise Exception(\"Saldo insuficiente!\")\n",
    "    def depositar(self, valor):\n",
    "        self.saldo = self.saldo + valor\n",
    "    def transferir(self, valor, outra_conta):\n",
    "        self.sacar(valor)\n",
    "        outra_conta.depositar(valor)\n",
    "    def __str__(self):\n",
    "        return f'Nome: {self.nome}\\nNúmero: {self.numero}\\nSaldo: {self.saldo}'"
   ]
  },
  {
   "cell_type": "code",
   "execution_count": 40,
   "metadata": {},
   "outputs": [
    {
     "name": "stdout",
     "output_type": "stream",
     "text": [
      "Nome: maria\n",
      "Número: 71\n",
      "Saldo: 200\n"
     ]
    }
   ],
   "source": [
    "c1 = Conta('maria', 200)\n",
    "print(c1)"
   ]
  },
  {
   "cell_type": "code",
   "execution_count": 41,
   "metadata": {},
   "outputs": [],
   "source": [
    "class ContaEspecial(Conta):\n",
    "    def sacar(self, valor):\n",
    "        if (self.saldo + 100) >= valor:\n",
    "            self.saldo = self.saldo - valor\n",
    "        else:\n",
    "            raise Exception(\"Saldo insuficiente!\")"
   ]
  },
  {
   "cell_type": "code",
   "execution_count": 42,
   "metadata": {},
   "outputs": [],
   "source": [
    "especial = ContaEspecial('maria', 200)"
   ]
  },
  {
   "cell_type": "code",
   "execution_count": 43,
   "metadata": {},
   "outputs": [
    {
     "name": "stdout",
     "output_type": "stream",
     "text": [
      "Nome: maria\n",
      "Número: 42\n",
      "Saldo: 200\n"
     ]
    }
   ],
   "source": [
    "print(especial)"
   ]
  },
  {
   "cell_type": "code",
   "execution_count": 44,
   "metadata": {},
   "outputs": [
    {
     "name": "stdout",
     "output_type": "stream",
     "text": [
      "Nome: maria\n",
      "Número: 42\n",
      "Saldo: -50\n"
     ]
    }
   ],
   "source": [
    "especial.sacar(250)\n",
    "print(especial)"
   ]
  },
  {
   "cell_type": "code",
   "execution_count": 45,
   "metadata": {},
   "outputs": [],
   "source": [
    "especial.transferir(40, c1)"
   ]
  },
  {
   "cell_type": "code",
   "execution_count": 46,
   "metadata": {},
   "outputs": [
    {
     "name": "stdout",
     "output_type": "stream",
     "text": [
      "Nome: maria\n",
      "Número: 71\n",
      "Saldo: 240\n",
      "Nome: maria\n",
      "Número: 42\n",
      "Saldo: -90\n"
     ]
    }
   ],
   "source": [
    "print(c1)\n",
    "print(especial)"
   ]
  },
  {
   "cell_type": "code",
   "execution_count": null,
   "metadata": {},
   "outputs": [],
   "source": []
  }
 ],
 "metadata": {
  "kernelspec": {
   "display_name": "Python 3",
   "language": "python",
   "name": "python3"
  },
  "language_info": {
   "codemirror_mode": {
    "name": "ipython",
    "version": 3
   },
   "file_extension": ".py",
   "mimetype": "text/x-python",
   "name": "python",
   "nbconvert_exporter": "python",
   "pygments_lexer": "ipython3",
   "version": "3.6.8"
  }
 },
 "nbformat": 4,
 "nbformat_minor": 4
}
