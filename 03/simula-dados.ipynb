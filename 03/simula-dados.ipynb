{
 "cells": [
  {
   "cell_type": "code",
   "execution_count": 1,
   "metadata": {},
   "outputs": [
    {
     "name": "stdout",
     "output_type": "stream",
     "text": [
      "Digite o número de dados: a\n"
     ]
    },
    {
     "ename": "ValueError",
     "evalue": "invalid literal for int() with base 10: 'a'",
     "output_type": "error",
     "traceback": [
      "\u001b[0;31m---------------------------------------------------------------------------\u001b[0m",
      "\u001b[0;31mValueError\u001b[0m                                Traceback (most recent call last)",
      "\u001b[0;32m<ipython-input-1-6f0b0334a53d>\u001b[0m in \u001b[0;36m<module>\u001b[0;34m\u001b[0m\n\u001b[0;32m----> 1\u001b[0;31m \u001b[0mquantidade\u001b[0m \u001b[0;34m=\u001b[0m \u001b[0mint\u001b[0m\u001b[0;34m(\u001b[0m\u001b[0minput\u001b[0m\u001b[0;34m(\u001b[0m\u001b[0;34m\"Digite o número de dados: \"\u001b[0m\u001b[0;34m)\u001b[0m\u001b[0;34m)\u001b[0m\u001b[0;34m\u001b[0m\u001b[0;34m\u001b[0m\u001b[0m\n\u001b[0m",
      "\u001b[0;31mValueError\u001b[0m: invalid literal for int() with base 10: 'a'"
     ]
    }
   ],
   "source": [
    "quantidade = int(input(\"Digite o número de dados: \"))"
   ]
  },
  {
   "cell_type": "code",
   "execution_count": 3,
   "metadata": {},
   "outputs": [
    {
     "name": "stdout",
     "output_type": "stream",
     "text": [
      "Digite o número de dados: a\n",
      "Digitou um valor inválido!\n"
     ]
    }
   ],
   "source": [
    "try:\n",
    "    quantidade = int(input(\"Digite o número de dados: \"))\n",
    "    print(\"Digitou a quantidade:\", quantidade)\n",
    "except:\n",
    "    print(\"Digitou um valor inválido!\")"
   ]
  },
  {
   "cell_type": "code",
   "execution_count": 4,
   "metadata": {},
   "outputs": [],
   "source": [
    "import random"
   ]
  },
  {
   "cell_type": "code",
   "execution_count": 6,
   "metadata": {},
   "outputs": [
    {
     "name": "stdout",
     "output_type": "stream",
     "text": [
      "Digite o número de dados: 0\n"
     ]
    }
   ],
   "source": [
    "while True:\n",
    "    try:\n",
    "        quantidade = int(input(\"Digite o número de dados: \"))\n",
    "        break\n",
    "    except:\n",
    "        print(\"Digitou um valor inválido!\")"
   ]
  },
  {
   "cell_type": "code",
   "execution_count": 7,
   "metadata": {},
   "outputs": [
    {
     "name": "stdout",
     "output_type": "stream",
     "text": [
      "Digite o número de dados: -1\n"
     ]
    }
   ],
   "source": [
    "while True:\n",
    "    try:\n",
    "        quantidade = int(input(\"Digite o número de dados: \"))\n",
    "        break\n",
    "    except:\n",
    "        print(\"Digitou um valor inválido!\")"
   ]
  },
  {
   "cell_type": "code",
   "execution_count": 8,
   "metadata": {},
   "outputs": [
    {
     "name": "stdout",
     "output_type": "stream",
     "text": [
      "Digite o número de dados: a\n",
      "Digitou um valor inválido!\n",
      "Digite o número de dados: b\n",
      "Digitou um valor inválido!\n",
      "Digite o número de dados: -10\n",
      "Digitou um valor inválido!\n",
      "Digite o número de dados: 0\n",
      "Digitou um valor inválido!\n",
      "Digite o número de dados: 10\n"
     ]
    }
   ],
   "source": [
    "while True:\n",
    "    try:\n",
    "        quantidade = int(input(\"Digite o número de dados: \"))\n",
    "        if quantidade < 1:\n",
    "            raise ValueError()\n",
    "        else:\n",
    "            break\n",
    "    except:\n",
    "        print(\"Digitou um valor inválido!\")"
   ]
  },
  {
   "cell_type": "code",
   "execution_count": 12,
   "metadata": {},
   "outputs": [
    {
     "name": "stdout",
     "output_type": "stream",
     "text": [
      "Digite o número de dados: 5\n",
      "Número 1 gerado: 5\n",
      "Número 2 gerado: 3\n",
      "Número 3 gerado: 1\n",
      "Número 4 gerado: 4\n",
      "Número 5 gerado: 3\n",
      "Soma: 16\n",
      "Média: 3.2\n",
      "Máximo: 5\n",
      "Mínimo: 1\n"
     ]
    }
   ],
   "source": [
    "while True:\n",
    "    try:\n",
    "        quantidade = int(input(\"Digite o número de dados: \"))\n",
    "        if quantidade < 1:\n",
    "            raise ValueError()\n",
    "        else:\n",
    "            break\n",
    "    except:\n",
    "        print(\"Digitou um valor inválido!\")\n",
    "soma = 0\n",
    "maximo = 0\n",
    "minimo = 7\n",
    "for i in range(quantidade):\n",
    "    valor = random.randint(1, 6)\n",
    "    soma = soma + valor\n",
    "    if maximo < valor:\n",
    "        maximo = valor\n",
    "    if minimo > valor:\n",
    "        minimo = valor\n",
    "    print(\"Número\", i + 1, \"gerado:\", valor)\n",
    "print(\"Soma:\", soma)\n",
    "print(\"Média:\", soma / quantidade)\n",
    "print(\"Máximo:\", maximo)\n",
    "print(\"Mínimo:\", minimo)"
   ]
  },
  {
   "cell_type": "code",
   "execution_count": 15,
   "metadata": {},
   "outputs": [
    {
     "name": "stdout",
     "output_type": "stream",
     "text": [
      "Digite o número de dados: 5\n",
      "Número 1 gerado: 1\n",
      "Número 2 gerado: 6\n",
      "Número 3 gerado: 2\n",
      "Número 4 gerado: 1\n",
      "Número 5 gerado: 3\n",
      "Soma: 13\n",
      "Média: 2.6\n",
      "Desvio Padrão: 2.073644135332772\n",
      "Máximo: 6\n",
      "Mínimo: 1\n"
     ]
    }
   ],
   "source": [
    "import statistics\n",
    "while True:\n",
    "    try:\n",
    "        quantidade = int(input(\"Digite o número de dados: \"))\n",
    "        if quantidade < 1:\n",
    "            raise ValueError()\n",
    "        else:\n",
    "            break\n",
    "    except:\n",
    "        print(\"Digitou um valor inválido!\")\n",
    "lista = []\n",
    "for i in range(quantidade):\n",
    "    valor = random.randint(1, 6)\n",
    "    lista.append(valor)\n",
    "    print(\"Número\", i + 1, \"gerado:\", valor)\n",
    "print(\"Soma:\", sum(lista))\n",
    "print(\"Média:\", statistics.mean(lista))\n",
    "print(\"Desvio Padrão:\", statistics.stdev(lista))\n",
    "print(\"Máximo:\", max(lista))\n",
    "print(\"Mínimo:\", min(lista))"
   ]
  },
  {
   "cell_type": "code",
   "execution_count": null,
   "metadata": {},
   "outputs": [],
   "source": []
  }
 ],
 "metadata": {
  "kernelspec": {
   "display_name": "Python 3",
   "language": "python",
   "name": "python3"
  },
  "language_info": {
   "codemirror_mode": {
    "name": "ipython",
    "version": 3
   },
   "file_extension": ".py",
   "mimetype": "text/x-python",
   "name": "python",
   "nbconvert_exporter": "python",
   "pygments_lexer": "ipython3",
   "version": "3.6.8"
  }
 },
 "nbformat": 4,
 "nbformat_minor": 4
}
