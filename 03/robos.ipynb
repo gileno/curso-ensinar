{
 "cells": [
  {
   "cell_type": "code",
   "execution_count": 1,
   "metadata": {},
   "outputs": [],
   "source": [
    "class Ponto:\n",
    "    def __init__(self, x, y):\n",
    "        self.x = x\n",
    "        self.y = y"
   ]
  },
  {
   "cell_type": "code",
   "execution_count": 2,
   "metadata": {},
   "outputs": [],
   "source": [
    "class Recompensa(Ponto):\n",
    "    def __init__(self, nome, x, y):\n",
    "        super().__init__(x, y)\n",
    "        self.nome = nome"
   ]
  },
  {
   "cell_type": "code",
   "execution_count": 3,
   "metadata": {},
   "outputs": [
    {
     "name": "stdout",
     "output_type": "stream",
     "text": [
      "1 2 gasolina\n"
     ]
    }
   ],
   "source": [
    "p = Ponto(1, 1)\n",
    "r = Recompensa(\"gasolina\", 1, 2)\n",
    "print(r.x, r.y, r.nome)"
   ]
  },
  {
   "cell_type": "code",
   "execution_count": 4,
   "metadata": {},
   "outputs": [],
   "source": [
    "class Robo(Ponto):\n",
    "    def subir(self):\n",
    "        self.x = self.x - 1\n",
    "    def descer(self):\n",
    "        self.x = self.x + 1\n",
    "    def esquerda(self):\n",
    "        self.y = self.y - 1\n",
    "    def direita(self):\n",
    "        self.y = self.y + 1"
   ]
  },
  {
   "cell_type": "code",
   "execution_count": 5,
   "metadata": {},
   "outputs": [],
   "source": [
    "import random\n",
    "nomes = [\"gasolina\", \"dinheiro\", \"arma\"]\n",
    "recompensas = []\n",
    "for i in range(10):\n",
    "    r = Recompensa(random.choice(nomes), random.randint(0, 9), random.randint(0, 9))\n",
    "    recompensas.append(r)"
   ]
  },
  {
   "cell_type": "code",
   "execution_count": 6,
   "metadata": {},
   "outputs": [
    {
     "name": "stdout",
     "output_type": "stream",
     "text": [
      "gasolina\n",
      "arma\n",
      "gasolina\n",
      "dinheiro\n",
      "dinheiro\n",
      "arma\n",
      "gasolina\n",
      "arma\n",
      "gasolina\n",
      "gasolina\n"
     ]
    }
   ],
   "source": [
    "for r in recompensas:\n",
    "    print(r.nome)"
   ]
  },
  {
   "cell_type": "code",
   "execution_count": 7,
   "metadata": {},
   "outputs": [],
   "source": [
    "def achou(robo):\n",
    "    for r in recompensas:\n",
    "        if r.x == robo.x and r.y == robo.y:\n",
    "            print(r.nome)"
   ]
  },
  {
   "cell_type": "code",
   "execution_count": 8,
   "metadata": {},
   "outputs": [
    {
     "name": "stdout",
     "output_type": "stream",
     "text": [
      "Digite o movimento (W,S,A,D) ou Q para sair: w\n",
      "Digite o movimento (W,S,A,D) ou Q para sair: w\n",
      "Digite o movimento (W,S,A,D) ou Q para sair: w\n",
      "Digite o movimento (W,S,A,D) ou Q para sair: w\n",
      "gasolina\n",
      "Digite o movimento (W,S,A,D) ou Q para sair: w\n",
      "Digite o movimento (W,S,A,D) ou Q para sair: w\n",
      "Digite o movimento (W,S,A,D) ou Q para sair: w\n",
      "Digite o movimento (W,S,A,D) ou Q para sair: d\n",
      "Digite o movimento (W,S,A,D) ou Q para sair: d\n",
      "Digite o movimento (W,S,A,D) ou Q para sair: d\n",
      "Digite o movimento (W,S,A,D) ou Q para sair: d\n",
      "Digite o movimento (W,S,A,D) ou Q para sair: d\n",
      "Digite o movimento (W,S,A,D) ou Q para sair: a\n",
      "Digite o movimento (W,S,A,D) ou Q para sair: a\n",
      "Digite o movimento (W,S,A,D) ou Q para sair: a\n",
      "Digite o movimento (W,S,A,D) ou Q para sair: aa\n",
      "Movimento inválido!\n",
      "Digite o movimento (W,S,A,D) ou Q para sair: a\n",
      "Digite o movimento (W,S,A,D) ou Q para sair: s\n",
      "Digite o movimento (W,S,A,D) ou Q para sair: s\n",
      "Digite o movimento (W,S,A,D) ou Q para sair: s\n",
      "Digite o movimento (W,S,A,D) ou Q para sair: s\n",
      "Digite o movimento (W,S,A,D) ou Q para sair: s\n",
      "Digite o movimento (W,S,A,D) ou Q para sair: d\n",
      "Digite o movimento (W,S,A,D) ou Q para sair: d\n",
      "Digite o movimento (W,S,A,D) ou Q para sair: a\n",
      "Digite o movimento (W,S,A,D) ou Q para sair: s\n",
      "Digite o movimento (W,S,A,D) ou Q para sair: s\n",
      "Digite o movimento (W,S,A,D) ou Q para sair: a\n",
      "arma\n",
      "Digite o movimento (W,S,A,D) ou Q para sair: q\n"
     ]
    }
   ],
   "source": [
    "robo = Robo(random.randint(0, 9), random.randint(0, 9))\n",
    "while True:\n",
    "    movimento = input(\"Digite o movimento (W,S,A,D) ou Q para sair: \").upper()\n",
    "    if movimento == 'W':\n",
    "        robo.subir()\n",
    "    elif movimento == 'S':\n",
    "        robo.descer()\n",
    "    elif movimento == 'A':\n",
    "        robo.esquerda()\n",
    "    elif movimento == 'D':\n",
    "        robo.direita()\n",
    "    elif movimento == 'Q':\n",
    "        break\n",
    "    else:\n",
    "        print(\"Movimento inválido!\")\n",
    "        continue\n",
    "    achou(robo)"
   ]
  },
  {
   "cell_type": "code",
   "execution_count": 9,
   "metadata": {},
   "outputs": [],
   "source": [
    "class Robo(Ponto):\n",
    "    def subir(self):\n",
    "        if self.x > 0:\n",
    "            self.x = self.x - 1\n",
    "        else:\n",
    "            print(\"Movimento inválido!\")\n",
    "    def descer(self):\n",
    "        if self.x < 9:\n",
    "            self.x = self.x + 1\n",
    "        else:\n",
    "            print(\"Movimento inválido!\")\n",
    "    def esquerda(self):\n",
    "        if self.y > 0:\n",
    "            self.y = self.y - 1\n",
    "        else:\n",
    "            print(\"Movimento inválido!\")\n",
    "    def direita(self):\n",
    "        if self.y < 9:\n",
    "            self.y = self.y + 1\n",
    "        else:\n",
    "            print(\"Movimento inválido!\")"
   ]
  },
  {
   "cell_type": "code",
   "execution_count": 10,
   "metadata": {},
   "outputs": [
    {
     "name": "stdout",
     "output_type": "stream",
     "text": [
      "Digite o movimento (W,S,A,D) ou Q para sair: a\n",
      "Digite o movimento (W,S,A,D) ou Q para sair: a\n",
      "Digite o movimento (W,S,A,D) ou Q para sair: a\n",
      "Digite o movimento (W,S,A,D) ou Q para sair: a\n",
      "Digite o movimento (W,S,A,D) ou Q para sair: a\n",
      "Digite o movimento (W,S,A,D) ou Q para sair: a\n",
      "Digite o movimento (W,S,A,D) ou Q para sair: a\n",
      "Digite o movimento (W,S,A,D) ou Q para sair: a\n",
      "Digite o movimento (W,S,A,D) ou Q para sair: a\n",
      "Movimento inválido!\n",
      "Digite o movimento (W,S,A,D) ou Q para sair: a\n",
      "Movimento inválido!\n",
      "Digite o movimento (W,S,A,D) ou Q para sair: w\n",
      "Digite o movimento (W,S,A,D) ou Q para sair: w\n",
      "Digite o movimento (W,S,A,D) ou Q para sair: w\n",
      "Digite o movimento (W,S,A,D) ou Q para sair: w\n",
      "Movimento inválido!\n",
      "Digite o movimento (W,S,A,D) ou Q para sair: q\n"
     ]
    }
   ],
   "source": [
    "robo = Robo(random.randint(0, 9), random.randint(0, 9))\n",
    "while True:\n",
    "    movimento = input(\"Digite o movimento (W,S,A,D) ou Q para sair: \").upper()\n",
    "    if movimento == 'W':\n",
    "        robo.subir()\n",
    "    elif movimento == 'S':\n",
    "        robo.descer()\n",
    "    elif movimento == 'A':\n",
    "        robo.esquerda()\n",
    "    elif movimento == 'D':\n",
    "        robo.direita()\n",
    "    elif movimento == 'Q':\n",
    "        break\n",
    "    else:\n",
    "        print(\"Movimento inválido!\")\n",
    "        continue\n",
    "    achou(robo)"
   ]
  },
  {
   "cell_type": "code",
   "execution_count": null,
   "metadata": {},
   "outputs": [],
   "source": []
  }
 ],
 "metadata": {
  "kernelspec": {
   "display_name": "Python 3",
   "language": "python",
   "name": "python3"
  },
  "language_info": {
   "codemirror_mode": {
    "name": "ipython",
    "version": 3
   },
   "file_extension": ".py",
   "mimetype": "text/x-python",
   "name": "python",
   "nbconvert_exporter": "python",
   "pygments_lexer": "ipython3",
   "version": "3.6.8"
  }
 },
 "nbformat": 4,
 "nbformat_minor": 4
}
