{
 "cells": [
  {
   "cell_type": "code",
   "execution_count": 2,
   "metadata": {},
   "outputs": [
    {
     "name": "stdout",
     "output_type": "stream",
     "text": [
      "Collecting textblob\n",
      "\u001b[?25l  Downloading https://files.pythonhosted.org/packages/60/f0/1d9bfcc8ee6b83472ec571406bd0dd51c0e6330ff1a51b2d29861d389e85/textblob-0.15.3-py2.py3-none-any.whl (636kB)\n",
      "\u001b[K     |████████████████████████████████| 645kB 102kB/s eta 0:00:01\n",
      "\u001b[?25hRequirement already satisfied: nltk>=3.1 in /home/gileno/workspace/cursos/curso-ensinar/venv/lib/python3.6/site-packages (from textblob) (3.4.5)\n",
      "Requirement already satisfied: six in /home/gileno/workspace/cursos/curso-ensinar/venv/lib/python3.6/site-packages (from nltk>=3.1->textblob) (1.13.0)\n",
      "Installing collected packages: textblob\n",
      "Successfully installed textblob-0.15.3\n"
     ]
    }
   ],
   "source": [
    "!pip install textblob"
   ]
  },
  {
   "cell_type": "code",
   "execution_count": 3,
   "metadata": {},
   "outputs": [],
   "source": [
    "from textblob import TextBlob"
   ]
  },
  {
   "cell_type": "code",
   "execution_count": 4,
   "metadata": {},
   "outputs": [],
   "source": [
    "texto = TextBlob('Esse ano eu vou sofrer com meu time')"
   ]
  },
  {
   "cell_type": "code",
   "execution_count": 5,
   "metadata": {},
   "outputs": [
    {
     "data": {
      "text/plain": [
       "'pt'"
      ]
     },
     "execution_count": 5,
     "metadata": {},
     "output_type": "execute_result"
    }
   ],
   "source": [
    "texto.detect_language()"
   ]
  },
  {
   "cell_type": "code",
   "execution_count": 6,
   "metadata": {},
   "outputs": [
    {
     "data": {
      "text/plain": [
       "TextBlob(\"This year I will suffer with my team\")"
      ]
     },
     "execution_count": 6,
     "metadata": {},
     "output_type": "execute_result"
    }
   ],
   "source": [
    "texto.translate(to='en')"
   ]
  },
  {
   "cell_type": "code",
   "execution_count": 7,
   "metadata": {},
   "outputs": [
    {
     "data": {
      "text/plain": [
       "'en'"
      ]
     },
     "execution_count": 7,
     "metadata": {},
     "output_type": "execute_result"
    }
   ],
   "source": [
    "texto.translate(to='en').detect_language()"
   ]
  },
  {
   "cell_type": "code",
   "execution_count": 9,
   "metadata": {},
   "outputs": [
    {
     "data": {
      "text/plain": [
       "0.0"
      ]
     },
     "execution_count": 9,
     "metadata": {},
     "output_type": "execute_result"
    }
   ],
   "source": [
    "texto.translate(to='en').sentiment.polarity"
   ]
  },
  {
   "cell_type": "code",
   "execution_count": 10,
   "metadata": {},
   "outputs": [
    {
     "data": {
      "text/plain": [
       "-0.5"
      ]
     },
     "execution_count": 10,
     "metadata": {},
     "output_type": "execute_result"
    }
   ],
   "source": [
    "TextBlob('Eu estou com raiva hoje').translate(to='en').sentiment.polarity"
   ]
  },
  {
   "cell_type": "code",
   "execution_count": 11,
   "metadata": {},
   "outputs": [
    {
     "name": "stdout",
     "output_type": "stream",
     "text": [
      "Collecting monkeylearn\n",
      "  Downloading https://files.pythonhosted.org/packages/c8/1a/43a49c824e8d727033304ff642da3d16abe25e048dd0a8d61e70fce6094d/monkeylearn-3.5.1.tar.gz\n",
      "Requirement already satisfied: requests>=2.8.1 in /home/gileno/workspace/cursos/curso-ensinar/venv/lib/python3.6/site-packages (from monkeylearn) (2.22.0)\n",
      "Requirement already satisfied: six>=1.10.0 in /home/gileno/workspace/cursos/curso-ensinar/venv/lib/python3.6/site-packages (from monkeylearn) (1.13.0)\n",
      "Requirement already satisfied: idna<2.9,>=2.5 in /home/gileno/workspace/cursos/curso-ensinar/venv/lib/python3.6/site-packages (from requests>=2.8.1->monkeylearn) (2.8)\n",
      "Requirement already satisfied: urllib3!=1.25.0,!=1.25.1,<1.26,>=1.21.1 in /home/gileno/workspace/cursos/curso-ensinar/venv/lib/python3.6/site-packages (from requests>=2.8.1->monkeylearn) (1.25.7)\n",
      "Requirement already satisfied: chardet<3.1.0,>=3.0.2 in /home/gileno/workspace/cursos/curso-ensinar/venv/lib/python3.6/site-packages (from requests>=2.8.1->monkeylearn) (3.0.4)\n",
      "Requirement already satisfied: certifi>=2017.4.17 in /home/gileno/workspace/cursos/curso-ensinar/venv/lib/python3.6/site-packages (from requests>=2.8.1->monkeylearn) (2019.11.28)\n",
      "Building wheels for collected packages: monkeylearn\n",
      "  Building wheel for monkeylearn (setup.py) ... \u001b[?25ldone\n",
      "\u001b[?25h  Created wheel for monkeylearn: filename=monkeylearn-3.5.1-cp36-none-any.whl size=16185 sha256=5998c9856b29cbf66eb46b2c11dad0ffe7b4d7f7d5425cfbabaf5f6cb1668c86\n",
      "  Stored in directory: /home/gileno/.cache/pip/wheels/40/94/e3/b45b1758aa6e2729172e7f5643f2d9d9cf180fdc148d0499d8\n",
      "Successfully built monkeylearn\n",
      "Installing collected packages: monkeylearn\n",
      "Successfully installed monkeylearn-3.5.1\n"
     ]
    }
   ],
   "source": [
    "!pip install monkeylearn"
   ]
  },
  {
   "cell_type": "code",
   "execution_count": 12,
   "metadata": {},
   "outputs": [],
   "source": [
    "from monkeylearn import MonkeyLearn"
   ]
  },
  {
   "cell_type": "code",
   "execution_count": 13,
   "metadata": {},
   "outputs": [],
   "source": [
    "api = MonkeyLearn('d39fb693fabd8b95c6b5fbabd3439281c792453b')"
   ]
  },
  {
   "cell_type": "code",
   "execution_count": null,
   "metadata": {},
   "outputs": [],
   "source": []
  }
 ],
 "metadata": {
  "kernelspec": {
   "display_name": "Python 3",
   "language": "python",
   "name": "python3"
  },
  "language_info": {
   "codemirror_mode": {
    "name": "ipython",
    "version": 3
   },
   "file_extension": ".py",
   "mimetype": "text/x-python",
   "name": "python",
   "nbconvert_exporter": "python",
   "pygments_lexer": "ipython3",
   "version": "3.6.8"
  }
 },
 "nbformat": 4,
 "nbformat_minor": 4
}
